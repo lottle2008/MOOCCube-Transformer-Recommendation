{
  "nbformat": 4,
  "nbformat_minor": 0,
  "metadata": {
    "colab": {
      "provenance": [],
      "gpuType": "T4",
      "authorship_tag": "ABX9TyOhflBKsjLrTYdr+4K68vVo",
      "include_colab_link": true
    },
    "kernelspec": {
      "name": "python3",
      "display_name": "Python 3"
    },
    "language_info": {
      "name": "python"
    },
    "accelerator": "GPU"
  },
  "cells": [
    {
      "cell_type": "markdown",
      "metadata": {
        "id": "view-in-github",
        "colab_type": "text"
      },
      "source": [
        "<a href=\"https://colab.research.google.com/github/lottle2008/MOOCCube-Transformer-Recommendation/blob/main/lun1_lun2.ipynb\" target=\"_parent\"><img src=\"https://colab.research.google.com/assets/colab-badge.svg\" alt=\"Open In Colab\"/></a>"
      ]
    },
    {
      "cell_type": "markdown",
      "source": [
        "📘 Notebook 1：01_data_preparation.ipynb\n",
        "\n",
        "目标：\n",
        "\n",
        "从 lun1 提供的数据（或原始 MOOC-CubeX）中提取用户、视频、概念、观看日志；\n",
        "\n",
        "清洗、标准化；\n",
        "\n",
        "计算行为特征；\n",
        "\n",
        "保存成四个标准 CSV，供下一阶段使用。"
      ],
      "metadata": {
        "id": "pLT1mCnJpIqa"
      }
    },
    {
      "cell_type": "code",
      "execution_count": 1,
      "metadata": {
        "colab": {
          "base_uri": "https://localhost:8080/"
        },
        "id": "AtHMSPrdoXyb",
        "outputId": "8918cd96-df5e-4ea3-fb04-a8acdb32bbfc"
      },
      "outputs": [
        {
          "output_type": "stream",
          "name": "stdout",
          "text": [
            "Requirement already satisfied: pandas in /usr/local/lib/python3.12/dist-packages (2.2.2)\n",
            "Requirement already satisfied: numpy in /usr/local/lib/python3.12/dist-packages (2.0.2)\n",
            "Requirement already satisfied: tqdm in /usr/local/lib/python3.12/dist-packages (4.67.1)\n",
            "Requirement already satisfied: python-dateutil>=2.8.2 in /usr/local/lib/python3.12/dist-packages (from pandas) (2.9.0.post0)\n",
            "Requirement already satisfied: pytz>=2020.1 in /usr/local/lib/python3.12/dist-packages (from pandas) (2025.2)\n",
            "Requirement already satisfied: tzdata>=2022.7 in /usr/local/lib/python3.12/dist-packages (from pandas) (2025.2)\n",
            "Requirement already satisfied: six>=1.5 in /usr/local/lib/python3.12/dist-packages (from python-dateutil>=2.8.2->pandas) (1.17.0)\n"
          ]
        }
      ],
      "source": [
        "!pip install pandas numpy tqdm\n"
      ]
    },
    {
      "cell_type": "code",
      "source": [
        "import os\n",
        "import pandas as pd\n",
        "import numpy as np\n",
        "from tqdm import tqdm\n",
        "\n",
        "# 设置随机种子\n",
        "import random\n",
        "SEED = 42\n",
        "random.seed(SEED)\n",
        "np.random.seed(SEED)\n",
        "\n",
        "# 数据目录\n",
        "DATA_DIR = \"/content/data\"\n",
        "os.makedirs(DATA_DIR, exist_ok=True)\n"
      ],
      "metadata": {
        "id": "8TKXnON0oe_J"
      },
      "execution_count": 2,
      "outputs": []
    },
    {
      "cell_type": "code",
      "source": [
        "# 检查是否已有数据\n",
        "expected_files = [\"users.csv\", \"videos.csv\", \"concepts.csv\", \"watch_logs.csv\"]\n",
        "existing = [f for f in expected_files if os.path.exists(os.path.join(DATA_DIR, f))]\n",
        "if len(existing) == 4:\n",
        "    print(\"✅ Found all required CSV files. Proceeding...\")\n",
        "else:\n",
        "    print(\"⚠️ Data files not found. Generating small demo dataset for pipeline testing...\")\n",
        "    users = pd.DataFrame({\"user_id\": [f\"u{i}\" for i in range(1, 51)]})\n",
        "    concepts = pd.DataFrame({\"concept_id\": [f\"c{i}\" for i in range(1, 31)],\n",
        "                             \"concept_name\":[f\"concept_{i}\" for i in range(1,31)]})\n",
        "    videos = []\n",
        "    logs = []\n",
        "    for vid in range(1, 101):\n",
        "        vid_id = f\"v{vid}\"\n",
        "        # 每个视频随机绑定 1~3 个概念\n",
        "        cons = random.sample(list(concepts.concept_id), k=random.choice([1,2,3]))\n",
        "        videos.append({\"video_id\": vid_id,\n",
        "                       \"title\": f\"Video {vid}\",\n",
        "                       \"duration\": random.choice([300,600,900]),\n",
        "                       \"concept_ids\": \",\".join(cons)})\n",
        "    for user in users.user_id:\n",
        "        watched = random.sample([v[\"video_id\"] for v in videos], k=random.randint(5,20))\n",
        "        for v in watched:\n",
        "            dur = next(item for item in videos if item[\"video_id\"]==v)[\"duration\"]\n",
        "            wt = int(dur * random.uniform(0.1,1.0))\n",
        "            comp = wt / dur\n",
        "            speed = random.choice([1.0,1.25,1.5])\n",
        "            logs.append({\"user_id\": user, \"video_id\": v,\n",
        "                         \"watch_time\": wt, \"video_duration\": dur,\n",
        "                         \"completion_rate\": comp, \"avg_playback_speed\": speed})\n",
        "    videos = pd.DataFrame(videos)\n",
        "    logs = pd.DataFrame(logs)\n",
        "    users.to_csv(os.path.join(DATA_DIR,\"users.csv\"), index=False)\n",
        "    videos.to_csv(os.path.join(DATA_DIR,\"videos.csv\"), index=False)\n",
        "    concepts.to_csv(os.path.join(DATA_DIR,\"concepts.csv\"), index=False)\n",
        "    logs.to_csv(os.path.join(DATA_DIR,\"watch_logs.csv\"), index=False)\n",
        "    print(\"✅ Demo data generated and saved.\")\n"
      ],
      "metadata": {
        "colab": {
          "base_uri": "https://localhost:8080/"
        },
        "id": "XrTqRGwKoe6-",
        "outputId": "ca1ae1f7-ac47-496a-a9d0-a50c95d2f959"
      },
      "execution_count": 3,
      "outputs": [
        {
          "output_type": "stream",
          "name": "stdout",
          "text": [
            "⚠️ Data files not found. Generating small demo dataset for pipeline testing...\n",
            "✅ Demo data generated and saved.\n"
          ]
        }
      ]
    },
    {
      "cell_type": "code",
      "source": [
        "# 载入数据\n",
        "users_df = pd.read_csv(os.path.join(DATA_DIR,\"users.csv\"))\n",
        "videos_df = pd.read_csv(os.path.join(DATA_DIR,\"videos.csv\"))\n",
        "concepts_df = pd.read_csv(os.path.join(DATA_DIR,\"concepts.csv\"))\n",
        "logs_df = pd.read_csv(os.path.join(DATA_DIR,\"watch_logs.csv\"))\n",
        "\n",
        "print(\"原始日志样例：\")\n",
        "display(logs_df.head())\n",
        "\n",
        "# === 特征计算 ===\n",
        "# 1. 用户层特征\n",
        "user_stats = logs_df.groupby(\"user_id\").agg(\n",
        "    avg_completion=(\"completion_rate\",\"mean\"),\n",
        "    avg_speed=(\"avg_playback_speed\",\"mean\"),\n",
        "    total_watch_time=(\"watch_time\",\"sum\"),\n",
        "    total_videos=(\"video_id\",\"count\")\n",
        ").reset_index()\n",
        "\n",
        "# 2. 视频层特征\n",
        "video_stats = logs_df.groupby(\"video_id\").agg(\n",
        "    avg_completion=(\"completion_rate\",\"mean\"),\n",
        "    avg_watch_time=(\"watch_time\",\"mean\"),\n",
        "    total_views=(\"user_id\",\"count\")\n",
        ").reset_index()\n",
        "\n",
        "# 合并保存\n",
        "users_df = users_df.merge(user_stats, on=\"user_id\", how=\"left\").fillna(0)\n",
        "videos_df = videos_df.merge(video_stats, on=\"video_id\", how=\"left\").fillna(0)\n",
        "\n",
        "# 保存更新后的文件\n",
        "users_df.to_csv(os.path.join(DATA_DIR,\"users.csv\"), index=False)\n",
        "videos_df.to_csv(os.path.join(DATA_DIR,\"videos.csv\"), index=False)\n",
        "\n",
        "print(\"✅ 行为特征已计算并更新到 CSV。\")\n"
      ],
      "metadata": {
        "colab": {
          "base_uri": "https://localhost:8080/",
          "height": 243
        },
        "id": "hIsmEg-voe3K",
        "outputId": "8bfe6ad1-f007-4595-b235-b79ed8e4365a"
      },
      "execution_count": 4,
      "outputs": [
        {
          "output_type": "stream",
          "name": "stdout",
          "text": [
            "原始日志样例：\n"
          ]
        },
        {
          "output_type": "display_data",
          "data": {
            "text/plain": [
              "  user_id video_id  watch_time  video_duration  completion_rate  \\\n",
              "0      u1      v31         149             900         0.165556   \n",
              "1      u1      v34         166             300         0.553333   \n",
              "2      u1      v51         281             300         0.936667   \n",
              "3      u1      v17         534             600         0.890000   \n",
              "4      u1      v86         320             900         0.355556   \n",
              "\n",
              "   avg_playback_speed  \n",
              "0                1.00  \n",
              "1                1.00  \n",
              "2                1.00  \n",
              "3                1.25  \n",
              "4                1.25  "
            ],
            "text/html": [
              "\n",
              "  <div id=\"df-8605d529-5fd7-4074-b4ee-461b966d0255\" class=\"colab-df-container\">\n",
              "    <div>\n",
              "<style scoped>\n",
              "    .dataframe tbody tr th:only-of-type {\n",
              "        vertical-align: middle;\n",
              "    }\n",
              "\n",
              "    .dataframe tbody tr th {\n",
              "        vertical-align: top;\n",
              "    }\n",
              "\n",
              "    .dataframe thead th {\n",
              "        text-align: right;\n",
              "    }\n",
              "</style>\n",
              "<table border=\"1\" class=\"dataframe\">\n",
              "  <thead>\n",
              "    <tr style=\"text-align: right;\">\n",
              "      <th></th>\n",
              "      <th>user_id</th>\n",
              "      <th>video_id</th>\n",
              "      <th>watch_time</th>\n",
              "      <th>video_duration</th>\n",
              "      <th>completion_rate</th>\n",
              "      <th>avg_playback_speed</th>\n",
              "    </tr>\n",
              "  </thead>\n",
              "  <tbody>\n",
              "    <tr>\n",
              "      <th>0</th>\n",
              "      <td>u1</td>\n",
              "      <td>v31</td>\n",
              "      <td>149</td>\n",
              "      <td>900</td>\n",
              "      <td>0.165556</td>\n",
              "      <td>1.00</td>\n",
              "    </tr>\n",
              "    <tr>\n",
              "      <th>1</th>\n",
              "      <td>u1</td>\n",
              "      <td>v34</td>\n",
              "      <td>166</td>\n",
              "      <td>300</td>\n",
              "      <td>0.553333</td>\n",
              "      <td>1.00</td>\n",
              "    </tr>\n",
              "    <tr>\n",
              "      <th>2</th>\n",
              "      <td>u1</td>\n",
              "      <td>v51</td>\n",
              "      <td>281</td>\n",
              "      <td>300</td>\n",
              "      <td>0.936667</td>\n",
              "      <td>1.00</td>\n",
              "    </tr>\n",
              "    <tr>\n",
              "      <th>3</th>\n",
              "      <td>u1</td>\n",
              "      <td>v17</td>\n",
              "      <td>534</td>\n",
              "      <td>600</td>\n",
              "      <td>0.890000</td>\n",
              "      <td>1.25</td>\n",
              "    </tr>\n",
              "    <tr>\n",
              "      <th>4</th>\n",
              "      <td>u1</td>\n",
              "      <td>v86</td>\n",
              "      <td>320</td>\n",
              "      <td>900</td>\n",
              "      <td>0.355556</td>\n",
              "      <td>1.25</td>\n",
              "    </tr>\n",
              "  </tbody>\n",
              "</table>\n",
              "</div>\n",
              "    <div class=\"colab-df-buttons\">\n",
              "\n",
              "  <div class=\"colab-df-container\">\n",
              "    <button class=\"colab-df-convert\" onclick=\"convertToInteractive('df-8605d529-5fd7-4074-b4ee-461b966d0255')\"\n",
              "            title=\"Convert this dataframe to an interactive table.\"\n",
              "            style=\"display:none;\">\n",
              "\n",
              "  <svg xmlns=\"http://www.w3.org/2000/svg\" height=\"24px\" viewBox=\"0 -960 960 960\">\n",
              "    <path d=\"M120-120v-720h720v720H120Zm60-500h600v-160H180v160Zm220 220h160v-160H400v160Zm0 220h160v-160H400v160ZM180-400h160v-160H180v160Zm440 0h160v-160H620v160ZM180-180h160v-160H180v160Zm440 0h160v-160H620v160Z\"/>\n",
              "  </svg>\n",
              "    </button>\n",
              "\n",
              "  <style>\n",
              "    .colab-df-container {\n",
              "      display:flex;\n",
              "      gap: 12px;\n",
              "    }\n",
              "\n",
              "    .colab-df-convert {\n",
              "      background-color: #E8F0FE;\n",
              "      border: none;\n",
              "      border-radius: 50%;\n",
              "      cursor: pointer;\n",
              "      display: none;\n",
              "      fill: #1967D2;\n",
              "      height: 32px;\n",
              "      padding: 0 0 0 0;\n",
              "      width: 32px;\n",
              "    }\n",
              "\n",
              "    .colab-df-convert:hover {\n",
              "      background-color: #E2EBFA;\n",
              "      box-shadow: 0px 1px 2px rgba(60, 64, 67, 0.3), 0px 1px 3px 1px rgba(60, 64, 67, 0.15);\n",
              "      fill: #174EA6;\n",
              "    }\n",
              "\n",
              "    .colab-df-buttons div {\n",
              "      margin-bottom: 4px;\n",
              "    }\n",
              "\n",
              "    [theme=dark] .colab-df-convert {\n",
              "      background-color: #3B4455;\n",
              "      fill: #D2E3FC;\n",
              "    }\n",
              "\n",
              "    [theme=dark] .colab-df-convert:hover {\n",
              "      background-color: #434B5C;\n",
              "      box-shadow: 0px 1px 3px 1px rgba(0, 0, 0, 0.15);\n",
              "      filter: drop-shadow(0px 1px 2px rgba(0, 0, 0, 0.3));\n",
              "      fill: #FFFFFF;\n",
              "    }\n",
              "  </style>\n",
              "\n",
              "    <script>\n",
              "      const buttonEl =\n",
              "        document.querySelector('#df-8605d529-5fd7-4074-b4ee-461b966d0255 button.colab-df-convert');\n",
              "      buttonEl.style.display =\n",
              "        google.colab.kernel.accessAllowed ? 'block' : 'none';\n",
              "\n",
              "      async function convertToInteractive(key) {\n",
              "        const element = document.querySelector('#df-8605d529-5fd7-4074-b4ee-461b966d0255');\n",
              "        const dataTable =\n",
              "          await google.colab.kernel.invokeFunction('convertToInteractive',\n",
              "                                                    [key], {});\n",
              "        if (!dataTable) return;\n",
              "\n",
              "        const docLinkHtml = 'Like what you see? Visit the ' +\n",
              "          '<a target=\"_blank\" href=https://colab.research.google.com/notebooks/data_table.ipynb>data table notebook</a>'\n",
              "          + ' to learn more about interactive tables.';\n",
              "        element.innerHTML = '';\n",
              "        dataTable['output_type'] = 'display_data';\n",
              "        await google.colab.output.renderOutput(dataTable, element);\n",
              "        const docLink = document.createElement('div');\n",
              "        docLink.innerHTML = docLinkHtml;\n",
              "        element.appendChild(docLink);\n",
              "      }\n",
              "    </script>\n",
              "  </div>\n",
              "\n",
              "\n",
              "    <div id=\"df-3c2e9fe6-5b96-4e51-b6fe-94bd4ccc8da8\">\n",
              "      <button class=\"colab-df-quickchart\" onclick=\"quickchart('df-3c2e9fe6-5b96-4e51-b6fe-94bd4ccc8da8')\"\n",
              "                title=\"Suggest charts\"\n",
              "                style=\"display:none;\">\n",
              "\n",
              "<svg xmlns=\"http://www.w3.org/2000/svg\" height=\"24px\"viewBox=\"0 0 24 24\"\n",
              "     width=\"24px\">\n",
              "    <g>\n",
              "        <path d=\"M19 3H5c-1.1 0-2 .9-2 2v14c0 1.1.9 2 2 2h14c1.1 0 2-.9 2-2V5c0-1.1-.9-2-2-2zM9 17H7v-7h2v7zm4 0h-2V7h2v10zm4 0h-2v-4h2v4z\"/>\n",
              "    </g>\n",
              "</svg>\n",
              "      </button>\n",
              "\n",
              "<style>\n",
              "  .colab-df-quickchart {\n",
              "      --bg-color: #E8F0FE;\n",
              "      --fill-color: #1967D2;\n",
              "      --hover-bg-color: #E2EBFA;\n",
              "      --hover-fill-color: #174EA6;\n",
              "      --disabled-fill-color: #AAA;\n",
              "      --disabled-bg-color: #DDD;\n",
              "  }\n",
              "\n",
              "  [theme=dark] .colab-df-quickchart {\n",
              "      --bg-color: #3B4455;\n",
              "      --fill-color: #D2E3FC;\n",
              "      --hover-bg-color: #434B5C;\n",
              "      --hover-fill-color: #FFFFFF;\n",
              "      --disabled-bg-color: #3B4455;\n",
              "      --disabled-fill-color: #666;\n",
              "  }\n",
              "\n",
              "  .colab-df-quickchart {\n",
              "    background-color: var(--bg-color);\n",
              "    border: none;\n",
              "    border-radius: 50%;\n",
              "    cursor: pointer;\n",
              "    display: none;\n",
              "    fill: var(--fill-color);\n",
              "    height: 32px;\n",
              "    padding: 0;\n",
              "    width: 32px;\n",
              "  }\n",
              "\n",
              "  .colab-df-quickchart:hover {\n",
              "    background-color: var(--hover-bg-color);\n",
              "    box-shadow: 0 1px 2px rgba(60, 64, 67, 0.3), 0 1px 3px 1px rgba(60, 64, 67, 0.15);\n",
              "    fill: var(--button-hover-fill-color);\n",
              "  }\n",
              "\n",
              "  .colab-df-quickchart-complete:disabled,\n",
              "  .colab-df-quickchart-complete:disabled:hover {\n",
              "    background-color: var(--disabled-bg-color);\n",
              "    fill: var(--disabled-fill-color);\n",
              "    box-shadow: none;\n",
              "  }\n",
              "\n",
              "  .colab-df-spinner {\n",
              "    border: 2px solid var(--fill-color);\n",
              "    border-color: transparent;\n",
              "    border-bottom-color: var(--fill-color);\n",
              "    animation:\n",
              "      spin 1s steps(1) infinite;\n",
              "  }\n",
              "\n",
              "  @keyframes spin {\n",
              "    0% {\n",
              "      border-color: transparent;\n",
              "      border-bottom-color: var(--fill-color);\n",
              "      border-left-color: var(--fill-color);\n",
              "    }\n",
              "    20% {\n",
              "      border-color: transparent;\n",
              "      border-left-color: var(--fill-color);\n",
              "      border-top-color: var(--fill-color);\n",
              "    }\n",
              "    30% {\n",
              "      border-color: transparent;\n",
              "      border-left-color: var(--fill-color);\n",
              "      border-top-color: var(--fill-color);\n",
              "      border-right-color: var(--fill-color);\n",
              "    }\n",
              "    40% {\n",
              "      border-color: transparent;\n",
              "      border-right-color: var(--fill-color);\n",
              "      border-top-color: var(--fill-color);\n",
              "    }\n",
              "    60% {\n",
              "      border-color: transparent;\n",
              "      border-right-color: var(--fill-color);\n",
              "    }\n",
              "    80% {\n",
              "      border-color: transparent;\n",
              "      border-right-color: var(--fill-color);\n",
              "      border-bottom-color: var(--fill-color);\n",
              "    }\n",
              "    90% {\n",
              "      border-color: transparent;\n",
              "      border-bottom-color: var(--fill-color);\n",
              "    }\n",
              "  }\n",
              "</style>\n",
              "\n",
              "      <script>\n",
              "        async function quickchart(key) {\n",
              "          const quickchartButtonEl =\n",
              "            document.querySelector('#' + key + ' button');\n",
              "          quickchartButtonEl.disabled = true;  // To prevent multiple clicks.\n",
              "          quickchartButtonEl.classList.add('colab-df-spinner');\n",
              "          try {\n",
              "            const charts = await google.colab.kernel.invokeFunction(\n",
              "                'suggestCharts', [key], {});\n",
              "          } catch (error) {\n",
              "            console.error('Error during call to suggestCharts:', error);\n",
              "          }\n",
              "          quickchartButtonEl.classList.remove('colab-df-spinner');\n",
              "          quickchartButtonEl.classList.add('colab-df-quickchart-complete');\n",
              "        }\n",
              "        (() => {\n",
              "          let quickchartButtonEl =\n",
              "            document.querySelector('#df-3c2e9fe6-5b96-4e51-b6fe-94bd4ccc8da8 button');\n",
              "          quickchartButtonEl.style.display =\n",
              "            google.colab.kernel.accessAllowed ? 'block' : 'none';\n",
              "        })();\n",
              "      </script>\n",
              "    </div>\n",
              "\n",
              "    </div>\n",
              "  </div>\n"
            ],
            "application/vnd.google.colaboratory.intrinsic+json": {
              "type": "dataframe",
              "summary": "{\n  \"name\": \"print(\\\"\\u2705 \\u884c\\u4e3a\\u7279\\u5f81\\u5df2\\u8ba1\\u7b97\\u5e76\\u66f4\\u65b0\\u5230 CSV\\u3002\\\")\",\n  \"rows\": 5,\n  \"fields\": [\n    {\n      \"column\": \"user_id\",\n      \"properties\": {\n        \"dtype\": \"category\",\n        \"num_unique_values\": 1,\n        \"samples\": [\n          \"u1\"\n        ],\n        \"semantic_type\": \"\",\n        \"description\": \"\"\n      }\n    },\n    {\n      \"column\": \"video_id\",\n      \"properties\": {\n        \"dtype\": \"string\",\n        \"num_unique_values\": 5,\n        \"samples\": [\n          \"v34\"\n        ],\n        \"semantic_type\": \"\",\n        \"description\": \"\"\n      }\n    },\n    {\n      \"column\": \"watch_time\",\n      \"properties\": {\n        \"dtype\": \"number\",\n        \"std\": 154,\n        \"min\": 149,\n        \"max\": 534,\n        \"num_unique_values\": 5,\n        \"samples\": [\n          166\n        ],\n        \"semantic_type\": \"\",\n        \"description\": \"\"\n      }\n    },\n    {\n      \"column\": \"video_duration\",\n      \"properties\": {\n        \"dtype\": \"number\",\n        \"std\": 300,\n        \"min\": 300,\n        \"max\": 900,\n        \"num_unique_values\": 3,\n        \"samples\": [\n          900\n        ],\n        \"semantic_type\": \"\",\n        \"description\": \"\"\n      }\n    },\n    {\n      \"column\": \"completion_rate\",\n      \"properties\": {\n        \"dtype\": \"number\",\n        \"std\": 0.3339766015312606,\n        \"min\": 0.1655555555555555,\n        \"max\": 0.9366666666666666,\n        \"num_unique_values\": 5,\n        \"samples\": [\n          0.5533333333333333\n        ],\n        \"semantic_type\": \"\",\n        \"description\": \"\"\n      }\n    },\n    {\n      \"column\": \"avg_playback_speed\",\n      \"properties\": {\n        \"dtype\": \"number\",\n        \"std\": 0.13693063937629155,\n        \"min\": 1.0,\n        \"max\": 1.25,\n        \"num_unique_values\": 2,\n        \"samples\": [\n          1.25\n        ],\n        \"semantic_type\": \"\",\n        \"description\": \"\"\n      }\n    }\n  ]\n}"
            }
          },
          "metadata": {}
        },
        {
          "output_type": "stream",
          "name": "stdout",
          "text": [
            "✅ 行为特征已计算并更新到 CSV。\n"
          ]
        }
      ]
    },
    {
      "cell_type": "code",
      "source": [
        "video_concept_edges = []\n",
        "for _, row in videos_df.iterrows():\n",
        "    c_list = [c.strip() for c in str(row[\"concept_ids\"]).split(\",\") if c.strip()]\n",
        "    for c in c_list:\n",
        "        video_concept_edges.append({\"video_id\": row[\"video_id\"], \"concept_id\": c})\n",
        "\n",
        "edges_df = pd.DataFrame(video_concept_edges)\n",
        "edges_df.to_csv(os.path.join(DATA_DIR, \"video_concept_edges.csv\"), index=False)\n",
        "print(\"✅ 已保存 video–concept 边表，共\", len(edges_df), \"条记录。\")\n"
      ],
      "metadata": {
        "colab": {
          "base_uri": "https://localhost:8080/"
        },
        "id": "cZ8W4Rheoey-",
        "outputId": "7b732f63-7636-4ab8-f4e3-4d1f32db8ef9"
      },
      "execution_count": 5,
      "outputs": [
        {
          "output_type": "stream",
          "name": "stdout",
          "text": [
            "✅ 已保存 video–concept 边表，共 207 条记录。\n"
          ]
        }
      ]
    },
    {
      "cell_type": "code",
      "source": [
        "print(\"用户数:\", len(users_df))\n",
        "print(\"视频数:\", len(videos_df))\n",
        "print(\"概念数:\", len(concepts_df))\n",
        "print(\"日志数:\", len(logs_df))\n",
        "print(\"边数:\", len(edges_df))\n",
        "\n",
        "# 简单完整性检查\n",
        "assert logs_df[\"user_id\"].isin(users_df[\"user_id\"]).all(), \"日志中有未知用户\"\n",
        "assert logs_df[\"video_id\"].isin(videos_df[\"video_id\"]).all(), \"日志中有未知视频\"\n",
        "assert edges_df[\"concept_id\"].isin(concepts_df[\"concept_id\"]).all(), \"存在未知概念\"\n",
        "print(\"✅ 数据完整性检查通过。\")\n"
      ],
      "metadata": {
        "colab": {
          "base_uri": "https://localhost:8080/"
        },
        "id": "u68mFSLWoeui",
        "outputId": "622ad07e-295c-4a2e-b2b0-33ac2b93568c"
      },
      "execution_count": 6,
      "outputs": [
        {
          "output_type": "stream",
          "name": "stdout",
          "text": [
            "用户数: 50\n",
            "视频数: 100\n",
            "概念数: 30\n",
            "日志数: 601\n",
            "边数: 207\n",
            "✅ 数据完整性检查通过。\n"
          ]
        }
      ]
    },
    {
      "cell_type": "code",
      "source": [
        "print(\n",
        "\"数据准备完成！输出结果：\\n\"\n",
        "\"- users.csv（含行为特征）\\n\"\n",
        "\"- videos.csv（含视频统计）\\n\"\n",
        "\"- concepts.csv（概念基础表）\\n\"\n",
        "\"- watch_logs.csv（观看日志）\\n\"\n",
        "\"- video_concept_edges.csv（视频-概念映射）\\n\\n\"\n",
        "\"✅ 下一步：在 02_HIN_GCN_training.ipynb 中载入这些文件，构建异构图并训练 GCN。\"\n",
        ")"
      ],
      "metadata": {
        "colab": {
          "base_uri": "https://localhost:8080/"
        },
        "id": "yy9x-ftboen5",
        "outputId": "2f6f64bc-78f0-4ada-a691-db76d4186b64"
      },
      "execution_count": 8,
      "outputs": [
        {
          "output_type": "stream",
          "name": "stdout",
          "text": [
            "数据准备完成！输出结果：\n",
            "- users.csv（含行为特征）\n",
            "- videos.csv（含视频统计）\n",
            "- concepts.csv（概念基础表）\n",
            "- watch_logs.csv（观看日志）\n",
            "- video_concept_edges.csv（视频-概念映射）\n",
            "\n",
            "✅ 下一步：在 02_HIN_GCN_training.ipynb 中载入这些文件，构建异构图并训练 GCN。\n"
          ]
        }
      ]
    },
    {
      "cell_type": "markdown",
      "source": [
        "🧠 研究阶段 2：HIN + GCN 模型训练\n",
        "\n",
        "目标：\n",
        "\n",
        "从数据文件中构建异构信息网络（HIN），节点包含用户（User）、视频（Video）、概念（Concept）。\n",
        "\n",
        "基于元路径构造邻接关系。\n",
        "\n",
        "使用单层 GCN（Graph Convolutional Network） 学习用户与概念的嵌入表示。\n",
        "\n",
        "保存训练结果 user_embs.npy, concept_embs.npy，供下一阶段推荐模型使用。"
      ],
      "metadata": {
        "id": "l8KaH9ONo31K"
      }
    },
    {
      "cell_type": "code",
      "source": [
        "!pip install torch torchvision torchaudio torch-geometric tqdm pandas numpy scipy scikit-learn\n"
      ],
      "metadata": {
        "colab": {
          "base_uri": "https://localhost:8080/"
        },
        "id": "4eOJa-zhoecY",
        "outputId": "1b3f1c99-5579-436c-9414-43e49d82885f"
      },
      "execution_count": 9,
      "outputs": [
        {
          "output_type": "stream",
          "name": "stdout",
          "text": [
            "Requirement already satisfied: torch in /usr/local/lib/python3.12/dist-packages (2.8.0+cu126)\n",
            "Requirement already satisfied: torchvision in /usr/local/lib/python3.12/dist-packages (0.23.0+cu126)\n",
            "Requirement already satisfied: torchaudio in /usr/local/lib/python3.12/dist-packages (2.8.0+cu126)\n",
            "Collecting torch-geometric\n",
            "  Downloading torch_geometric-2.7.0-py3-none-any.whl.metadata (63 kB)\n",
            "\u001b[?25l     \u001b[90m━━━━━━━━━━━━━━━━━━━━━━━━━━━━━━━━━━━━━━━━\u001b[0m \u001b[32m0.0/63.7 kB\u001b[0m \u001b[31m?\u001b[0m eta \u001b[36m-:--:--\u001b[0m\r\u001b[2K     \u001b[90m━━━━━━━━━━━━━━━━━━━━━━━━━━━━━━━━━━━━━━━━\u001b[0m \u001b[32m63.7/63.7 kB\u001b[0m \u001b[31m3.7 MB/s\u001b[0m eta \u001b[36m0:00:00\u001b[0m\n",
            "\u001b[?25hRequirement already satisfied: tqdm in /usr/local/lib/python3.12/dist-packages (4.67.1)\n",
            "Requirement already satisfied: pandas in /usr/local/lib/python3.12/dist-packages (2.2.2)\n",
            "Requirement already satisfied: numpy in /usr/local/lib/python3.12/dist-packages (2.0.2)\n",
            "Requirement already satisfied: scipy in /usr/local/lib/python3.12/dist-packages (1.16.2)\n",
            "Requirement already satisfied: scikit-learn in /usr/local/lib/python3.12/dist-packages (1.6.1)\n",
            "Requirement already satisfied: filelock in /usr/local/lib/python3.12/dist-packages (from torch) (3.20.0)\n",
            "Requirement already satisfied: typing-extensions>=4.10.0 in /usr/local/lib/python3.12/dist-packages (from torch) (4.15.0)\n",
            "Requirement already satisfied: setuptools in /usr/local/lib/python3.12/dist-packages (from torch) (75.2.0)\n",
            "Requirement already satisfied: sympy>=1.13.3 in /usr/local/lib/python3.12/dist-packages (from torch) (1.13.3)\n",
            "Requirement already satisfied: networkx in /usr/local/lib/python3.12/dist-packages (from torch) (3.5)\n",
            "Requirement already satisfied: jinja2 in /usr/local/lib/python3.12/dist-packages (from torch) (3.1.6)\n",
            "Requirement already satisfied: fsspec in /usr/local/lib/python3.12/dist-packages (from torch) (2025.3.0)\n",
            "Requirement already satisfied: nvidia-cuda-nvrtc-cu12==12.6.77 in /usr/local/lib/python3.12/dist-packages (from torch) (12.6.77)\n",
            "Requirement already satisfied: nvidia-cuda-runtime-cu12==12.6.77 in /usr/local/lib/python3.12/dist-packages (from torch) (12.6.77)\n",
            "Requirement already satisfied: nvidia-cuda-cupti-cu12==12.6.80 in /usr/local/lib/python3.12/dist-packages (from torch) (12.6.80)\n",
            "Requirement already satisfied: nvidia-cudnn-cu12==9.10.2.21 in /usr/local/lib/python3.12/dist-packages (from torch) (9.10.2.21)\n",
            "Requirement already satisfied: nvidia-cublas-cu12==12.6.4.1 in /usr/local/lib/python3.12/dist-packages (from torch) (12.6.4.1)\n",
            "Requirement already satisfied: nvidia-cufft-cu12==11.3.0.4 in /usr/local/lib/python3.12/dist-packages (from torch) (11.3.0.4)\n",
            "Requirement already satisfied: nvidia-curand-cu12==10.3.7.77 in /usr/local/lib/python3.12/dist-packages (from torch) (10.3.7.77)\n",
            "Requirement already satisfied: nvidia-cusolver-cu12==11.7.1.2 in /usr/local/lib/python3.12/dist-packages (from torch) (11.7.1.2)\n",
            "Requirement already satisfied: nvidia-cusparse-cu12==12.5.4.2 in /usr/local/lib/python3.12/dist-packages (from torch) (12.5.4.2)\n",
            "Requirement already satisfied: nvidia-cusparselt-cu12==0.7.1 in /usr/local/lib/python3.12/dist-packages (from torch) (0.7.1)\n",
            "Requirement already satisfied: nvidia-nccl-cu12==2.27.3 in /usr/local/lib/python3.12/dist-packages (from torch) (2.27.3)\n",
            "Requirement already satisfied: nvidia-nvtx-cu12==12.6.77 in /usr/local/lib/python3.12/dist-packages (from torch) (12.6.77)\n",
            "Requirement already satisfied: nvidia-nvjitlink-cu12==12.6.85 in /usr/local/lib/python3.12/dist-packages (from torch) (12.6.85)\n",
            "Requirement already satisfied: nvidia-cufile-cu12==1.11.1.6 in /usr/local/lib/python3.12/dist-packages (from torch) (1.11.1.6)\n",
            "Requirement already satisfied: triton==3.4.0 in /usr/local/lib/python3.12/dist-packages (from torch) (3.4.0)\n",
            "Requirement already satisfied: pillow!=8.3.*,>=5.3.0 in /usr/local/lib/python3.12/dist-packages (from torchvision) (11.3.0)\n",
            "Requirement already satisfied: aiohttp in /usr/local/lib/python3.12/dist-packages (from torch-geometric) (3.13.0)\n",
            "Requirement already satisfied: psutil>=5.8.0 in /usr/local/lib/python3.12/dist-packages (from torch-geometric) (5.9.5)\n",
            "Requirement already satisfied: pyparsing in /usr/local/lib/python3.12/dist-packages (from torch-geometric) (3.2.5)\n",
            "Requirement already satisfied: requests in /usr/local/lib/python3.12/dist-packages (from torch-geometric) (2.32.4)\n",
            "Requirement already satisfied: xxhash in /usr/local/lib/python3.12/dist-packages (from torch-geometric) (3.6.0)\n",
            "Requirement already satisfied: python-dateutil>=2.8.2 in /usr/local/lib/python3.12/dist-packages (from pandas) (2.9.0.post0)\n",
            "Requirement already satisfied: pytz>=2020.1 in /usr/local/lib/python3.12/dist-packages (from pandas) (2025.2)\n",
            "Requirement already satisfied: tzdata>=2022.7 in /usr/local/lib/python3.12/dist-packages (from pandas) (2025.2)\n",
            "Requirement already satisfied: joblib>=1.2.0 in /usr/local/lib/python3.12/dist-packages (from scikit-learn) (1.5.2)\n",
            "Requirement already satisfied: threadpoolctl>=3.1.0 in /usr/local/lib/python3.12/dist-packages (from scikit-learn) (3.6.0)\n",
            "Requirement already satisfied: six>=1.5 in /usr/local/lib/python3.12/dist-packages (from python-dateutil>=2.8.2->pandas) (1.17.0)\n",
            "Requirement already satisfied: mpmath<1.4,>=1.1.0 in /usr/local/lib/python3.12/dist-packages (from sympy>=1.13.3->torch) (1.3.0)\n",
            "Requirement already satisfied: aiohappyeyeballs>=2.5.0 in /usr/local/lib/python3.12/dist-packages (from aiohttp->torch-geometric) (2.6.1)\n",
            "Requirement already satisfied: aiosignal>=1.4.0 in /usr/local/lib/python3.12/dist-packages (from aiohttp->torch-geometric) (1.4.0)\n",
            "Requirement already satisfied: attrs>=17.3.0 in /usr/local/lib/python3.12/dist-packages (from aiohttp->torch-geometric) (25.4.0)\n",
            "Requirement already satisfied: frozenlist>=1.1.1 in /usr/local/lib/python3.12/dist-packages (from aiohttp->torch-geometric) (1.8.0)\n",
            "Requirement already satisfied: multidict<7.0,>=4.5 in /usr/local/lib/python3.12/dist-packages (from aiohttp->torch-geometric) (6.7.0)\n",
            "Requirement already satisfied: propcache>=0.2.0 in /usr/local/lib/python3.12/dist-packages (from aiohttp->torch-geometric) (0.3.2)\n",
            "Requirement already satisfied: yarl<2.0,>=1.17.0 in /usr/local/lib/python3.12/dist-packages (from aiohttp->torch-geometric) (1.22.0)\n",
            "Requirement already satisfied: MarkupSafe>=2.0 in /usr/local/lib/python3.12/dist-packages (from jinja2->torch) (3.0.3)\n",
            "Requirement already satisfied: charset_normalizer<4,>=2 in /usr/local/lib/python3.12/dist-packages (from requests->torch-geometric) (3.4.3)\n",
            "Requirement already satisfied: idna<4,>=2.5 in /usr/local/lib/python3.12/dist-packages (from requests->torch-geometric) (3.10)\n",
            "Requirement already satisfied: urllib3<3,>=1.21.1 in /usr/local/lib/python3.12/dist-packages (from requests->torch-geometric) (2.5.0)\n",
            "Requirement already satisfied: certifi>=2017.4.17 in /usr/local/lib/python3.12/dist-packages (from requests->torch-geometric) (2025.10.5)\n",
            "Downloading torch_geometric-2.7.0-py3-none-any.whl (1.3 MB)\n",
            "\u001b[2K   \u001b[90m━━━━━━━━━━━━━━━━━━━━━━━━━━━━━━━━━━━━━━━━\u001b[0m \u001b[32m1.3/1.3 MB\u001b[0m \u001b[31m39.4 MB/s\u001b[0m eta \u001b[36m0:00:00\u001b[0m\n",
            "\u001b[?25hInstalling collected packages: torch-geometric\n",
            "Successfully installed torch-geometric-2.7.0\n"
          ]
        }
      ]
    },
    {
      "cell_type": "code",
      "source": [
        "import os\n",
        "import torch\n",
        "import torch.nn as nn\n",
        "import torch.nn.functional as F\n",
        "from torch_geometric.nn import GCNConv\n",
        "from torch_geometric.utils import from_scipy_sparse_matrix\n",
        "import numpy as np\n",
        "import pandas as pd\n",
        "from scipy.sparse import coo_matrix\n",
        "from tqdm import tqdm\n",
        "import random\n",
        "\n",
        "# 固定随机种子\n",
        "SEED = 42\n",
        "random.seed(SEED)\n",
        "np.random.seed(SEED)\n",
        "torch.manual_seed(SEED)\n",
        "if torch.cuda.is_available():\n",
        "    torch.cuda.manual_seed_all(SEED)\n",
        "\n",
        "DEVICE = torch.device(\"cuda\" if torch.cuda.is_available() else \"cpu\")\n",
        "print(\"✅ Using device:\", DEVICE)\n"
      ],
      "metadata": {
        "colab": {
          "base_uri": "https://localhost:8080/"
        },
        "id": "N4hZGqagpS8n",
        "outputId": "d9e85161-4315-43fa-d1bd-9c2fecdde017"
      },
      "execution_count": 10,
      "outputs": [
        {
          "output_type": "stream",
          "name": "stdout",
          "text": [
            "✅ Using device: cuda\n"
          ]
        }
      ]
    },
    {
      "cell_type": "code",
      "source": [
        "DATA_DIR = \"/content/data\"\n",
        "\n",
        "users_df = pd.read_csv(os.path.join(DATA_DIR, \"users.csv\"))\n",
        "videos_df = pd.read_csv(os.path.join(DATA_DIR, \"videos.csv\"))\n",
        "concepts_df = pd.read_csv(os.path.join(DATA_DIR, \"concepts.csv\"))\n",
        "logs_df = pd.read_csv(os.path.join(DATA_DIR, \"watch_logs.csv\"))\n",
        "edges_df = pd.read_csv(os.path.join(DATA_DIR, \"video_concept_edges.csv\"))\n",
        "\n",
        "print(f\"✅ 数据加载完成: {len(users_df)} 用户, {len(videos_df)} 视频, {len(concepts_df)} 概念, {len(logs_df)} 日志\")\n"
      ],
      "metadata": {
        "colab": {
          "base_uri": "https://localhost:8080/"
        },
        "id": "YQbN9wH7pS0S",
        "outputId": "becf3a7d-5317-4659-af7c-250d16712679"
      },
      "execution_count": 11,
      "outputs": [
        {
          "output_type": "stream",
          "name": "stdout",
          "text": [
            "✅ 数据加载完成: 50 用户, 100 视频, 30 概念, 601 日志\n"
          ]
        }
      ]
    },
    {
      "cell_type": "code",
      "source": [
        "user2idx = {u: i for i, u in enumerate(users_df[\"user_id\"].unique())}\n",
        "video2idx = {v: i for i, v in enumerate(videos_df[\"video_id\"].unique())}\n",
        "concept2idx = {c: i for i, c in enumerate(concepts_df[\"concept_id\"].unique())}\n",
        "\n",
        "num_users = len(user2idx)\n",
        "num_videos = len(video2idx)\n",
        "num_concepts = len(concept2idx)\n",
        "\n",
        "print(f\"用户节点数: {num_users}, 视频节点数: {num_videos}, 概念节点数: {num_concepts}\")\n"
      ],
      "metadata": {
        "colab": {
          "base_uri": "https://localhost:8080/"
        },
        "id": "N4y7RMilpSuH",
        "outputId": "2fe7ff94-d50d-456b-845b-197aa2b6dfbc"
      },
      "execution_count": 12,
      "outputs": [
        {
          "output_type": "stream",
          "name": "stdout",
          "text": [
            "用户节点数: 50, 视频节点数: 100, 概念节点数: 30\n"
          ]
        }
      ]
    },
    {
      "cell_type": "code",
      "source": [
        "# 1️⃣ 用户-视频边\n",
        "uv_edges = logs_df[[\"user_id\", \"video_id\"]].drop_duplicates()\n",
        "uv_edges[\"u_idx\"] = uv_edges[\"user_id\"].map(user2idx)\n",
        "uv_edges[\"v_idx\"] = uv_edges[\"video_id\"].map(video2idx)\n",
        "\n",
        "# 2️⃣ 视频-概念边\n",
        "vc_edges = edges_df.copy()\n",
        "vc_edges[\"v_idx\"] = vc_edges[\"video_id\"].map(video2idx)\n",
        "vc_edges[\"c_idx\"] = vc_edges[\"concept_id\"].map(concept2idx)\n",
        "\n",
        "# 3️⃣ 用户-用户共现（观看同一视频）\n",
        "video_to_users = logs_df.groupby(\"video_id\")[\"user_id\"].apply(list).to_dict()\n",
        "uu_pairs = set()\n",
        "for vid, users in video_to_users.items():\n",
        "    for i in range(len(users)):\n",
        "        for j in range(i + 1, len(users)):\n",
        "            uu_pairs.add((user2idx[users[i]], user2idx[users[j]]))\n",
        "uu_edges = pd.DataFrame(list(uu_pairs), columns=[\"u1_idx\", \"u2_idx\"])\n",
        "\n",
        "# 4️⃣ 概念-概念共现（同视频内）\n",
        "video_to_concepts = edges_df.groupby(\"video_id\")[\"concept_id\"].apply(list).to_dict()\n",
        "cc_pairs = set()\n",
        "for vid, cons in video_to_concepts.items():\n",
        "    for i in range(len(cons)):\n",
        "        for j in range(i + 1, len(cons)):\n",
        "            cc_pairs.add((concept2idx[cons[i]], concept2idx[cons[j]]))\n",
        "cc_edges = pd.DataFrame(list(cc_pairs), columns=[\"c1_idx\", \"c2_idx\"])\n",
        "\n",
        "print(f\"用户-视频边: {len(uv_edges)} | 视频-概念边: {len(vc_edges)} | U-U 边: {len(uu_edges)} | C-C 边: {len(cc_edges)}\")\n"
      ],
      "metadata": {
        "colab": {
          "base_uri": "https://localhost:8080/"
        },
        "id": "ZgH8DjYWpSpp",
        "outputId": "6b7315e9-e51a-4df0-ea76-10cce3a6d235"
      },
      "execution_count": 13,
      "outputs": [
        {
          "output_type": "stream",
          "name": "stdout",
          "text": [
            "用户-视频边: 601 | 视频-概念边: 207 | U-U 边: 894 | C-C 边: 139\n"
          ]
        }
      ]
    },
    {
      "cell_type": "code",
      "source": [
        "from scipy.sparse import coo_matrix\n",
        "\n",
        "# 用户-用户邻接\n",
        "rows, cols = uu_edges[\"u1_idx\"].values, uu_edges[\"u2_idx\"].values\n",
        "user_adj = coo_matrix((np.ones(len(rows)), (rows, cols)), shape=(num_users, num_users))\n",
        "\n",
        "# 概念-概念邻接\n",
        "rows, cols = cc_edges[\"c1_idx\"].values, cc_edges[\"c2_idx\"].values\n",
        "concept_adj = coo_matrix((np.ones(len(rows)), (rows, cols)), shape=(num_concepts, num_concepts))\n",
        "\n",
        "print(\"✅ 构建稀疏矩阵完成：\")\n",
        "print(f\"User adj nnz: {user_adj.nnz}, Concept adj nnz: {concept_adj.nnz}\")\n"
      ],
      "metadata": {
        "colab": {
          "base_uri": "https://localhost:8080/"
        },
        "id": "0Koqob4zpSlg",
        "outputId": "bd479fbd-f97c-4a1c-84de-6e268b003f9a"
      },
      "execution_count": 14,
      "outputs": [
        {
          "output_type": "stream",
          "name": "stdout",
          "text": [
            "✅ 构建稀疏矩阵完成：\n",
            "User adj nnz: 894, Concept adj nnz: 139\n"
          ]
        }
      ]
    },
    {
      "cell_type": "code",
      "source": [
        "class SimpleGCN(nn.Module):\n",
        "    def __init__(self, num_nodes, emb_dim=64):\n",
        "        super().__init__()\n",
        "        self.node_emb = nn.Parameter(torch.randn(num_nodes, emb_dim))\n",
        "        self.conv = GCNConv(emb_dim, emb_dim)\n",
        "\n",
        "    def forward(self, edge_index, edge_weight=None):\n",
        "        x = self.node_emb\n",
        "        x = self.conv(x, edge_index, edge_weight)\n",
        "        x = F.relu(x)\n",
        "        return x\n"
      ],
      "metadata": {
        "id": "pJI6YPxppSe-"
      },
      "execution_count": 15,
      "outputs": []
    },
    {
      "cell_type": "code",
      "source": [
        "from torch_geometric.utils import from_scipy_sparse_matrix\n",
        "\n",
        "def train_gcn(adj_matrix, num_nodes, emb_dim=64, epochs=50, lr=0.01):\n",
        "    edge_index, edge_weight = from_scipy_sparse_matrix(adj_matrix)\n",
        "    edge_index, edge_weight = edge_index.to(DEVICE), edge_weight.to(DEVICE)\n",
        "    model = SimpleGCN(num_nodes, emb_dim).to(DEVICE)\n",
        "    opt = torch.optim.Adam(model.parameters(), lr=lr, weight_decay=1e-5)\n",
        "\n",
        "    pos_u = edge_index[0]\n",
        "    pos_v = edge_index[1]\n",
        "\n",
        "    for epoch in range(epochs):\n",
        "        model.train()\n",
        "        opt.zero_grad()\n",
        "        z = model(edge_index, edge_weight)\n",
        "        pos_score = (z[pos_u] * z[pos_v]).sum(dim=1)\n",
        "        neg_v = torch.randint(0, num_nodes, pos_v.shape, device=DEVICE)\n",
        "        neg_score = (z[pos_u] * z[neg_v]).sum(dim=1)\n",
        "        loss = - (F.logsigmoid(pos_score).mean() + F.logsigmoid(-neg_score).mean())\n",
        "        loss.backward()\n",
        "        opt.step()\n",
        "        if epoch % 10 == 0:\n",
        "            print(f\"Epoch {epoch:03d} | Loss: {loss.item():.4f}\")\n",
        "    model.eval()\n",
        "    with torch.no_grad():\n",
        "        emb = model(edge_index, edge_weight).cpu().numpy()\n",
        "    return emb\n"
      ],
      "metadata": {
        "id": "s_t0Du7QpSV7"
      },
      "execution_count": 16,
      "outputs": []
    },
    {
      "cell_type": "code",
      "source": [
        "EMB_DIM = 64\n",
        "\n",
        "print(\"🧠 训练用户 GCN ...\")\n",
        "user_embs = train_gcn(user_adj, num_users, emb_dim=EMB_DIM, epochs=40, lr=0.01)\n",
        "print(\"✅ 用户嵌入 shape:\", user_embs.shape)\n",
        "\n",
        "print(\"\\n🧠 训练概念 GCN ...\")\n",
        "concept_embs = train_gcn(concept_adj, num_concepts, emb_dim=EMB_DIM, epochs=40, lr=0.01)\n",
        "print(\"✅ 概念嵌入 shape:\", concept_embs.shape)\n"
      ],
      "metadata": {
        "colab": {
          "base_uri": "https://localhost:8080/"
        },
        "id": "GpwnI8Gwplz1",
        "outputId": "711fd288-24ac-4ce9-f737-49c41a04c9a6"
      },
      "execution_count": 17,
      "outputs": [
        {
          "output_type": "stream",
          "name": "stdout",
          "text": [
            "🧠 训练用户 GCN ...\n",
            "Epoch 000 | Loss: 7.8597\n",
            "Epoch 010 | Loss: 1.3864\n",
            "Epoch 020 | Loss: 1.3865\n",
            "Epoch 030 | Loss: 1.3863\n",
            "✅ 用户嵌入 shape: (50, 64)\n",
            "\n",
            "🧠 训练概念 GCN ...\n",
            "Epoch 000 | Loss: 2.7954\n",
            "Epoch 010 | Loss: 1.3813\n",
            "Epoch 020 | Loss: 1.3651\n",
            "Epoch 030 | Loss: 1.3462\n",
            "✅ 概念嵌入 shape: (30, 64)\n"
          ]
        }
      ]
    },
    {
      "cell_type": "code",
      "source": [
        "np.save(os.path.join(DATA_DIR, \"user_embs.npy\"), user_embs)\n",
        "np.save(os.path.join(DATA_DIR, \"concept_embs.npy\"), concept_embs)\n",
        "\n",
        "print(\"✅ 嵌入保存完成：\")\n",
        "print(\"user_embs.npy, concept_embs.npy 已写入\", DATA_DIR)\n"
      ],
      "metadata": {
        "colab": {
          "base_uri": "https://localhost:8080/"
        },
        "id": "v7P1YWb_plpQ",
        "outputId": "f1331b42-e551-41e3-dd59-ce7ea3f754f4"
      },
      "execution_count": 18,
      "outputs": [
        {
          "output_type": "stream",
          "name": "stdout",
          "text": [
            "✅ 嵌入保存完成：\n",
            "user_embs.npy, concept_embs.npy 已写入 /content/data\n"
          ]
        }
      ]
    },
    {
      "cell_type": "code",
      "source": [
        "import matplotlib.pyplot as plt\n",
        "from sklearn.decomposition import PCA\n",
        "\n",
        "def visualize_embeddings(embeddings, title):\n",
        "    pca = PCA(n_components=2)\n",
        "    reduced = pca.fit_transform(embeddings)\n",
        "    plt.figure(figsize=(6,5))\n",
        "    plt.scatter(reduced[:,0], reduced[:,1], s=10, alpha=0.7)\n",
        "    plt.title(title)\n",
        "    plt.show()\n",
        "\n",
        "visualize_embeddings(user_embs, \"User Embeddings (PCA Projection)\")\n",
        "visualize_embeddings(concept_embs, \"Concept Embeddings (PCA Projection)\")\n"
      ],
      "metadata": {
        "colab": {
          "base_uri": "https://localhost:8080/",
          "height": 919
        },
        "id": "zBVfoptYpqGk",
        "outputId": "8f82f2cd-f4ad-45b0-e4ac-83ab78302c94"
      },
      "execution_count": 19,
      "outputs": [
        {
          "output_type": "display_data",
          "data": {
            "text/plain": [
              "<Figure size 600x500 with 1 Axes>"
            ],
            "image/png": "[encoded data removed]"
          },
          "metadata": {}
        },
        {
          "output_type": "display_data",
          "data": {
            "text/plain": [
              "<Figure size 600x500 with 1 Axes>"
            ],
            "image/png": "[encoded data removed]"
          },
          "metadata": {}
        }
      ]
    },
    {
      "cell_type": "code",
      "source": [
        "print(\n",
        "\"第二阶段完成！\\n\"\n",
        "\"输出结果：\\n\"\n",
        "\"- user_embs.npy  （用户节点嵌入）\\n\"\n",
        "\"- concept_embs.npy （概念节点嵌入）\\n\"\n",
        "\"支撑第三阶段的推荐模型训练\\n\\n\"\n",
        "\"下一阶段 (03_recommendation_model.ipynb)：\\n\"\n",
        "\"👉 将加载这些嵌入与行为特征\\n\"\n",
        "\"👉 训练“融合 GCN + 行为特征”的推荐模型\\n\"\n",
        "\"👉 评估 Precision@K、Recall@K、NDCG\"\n",
        ")"
      ],
      "metadata": {
        "colab": {
          "base_uri": "https://localhost:8080/"
        },
        "id": "rk7QIa15pp9-",
        "outputId": "e3f27134-e20b-4ebe-8a43-97e20cead2fa"
      },
      "execution_count": 21,
      "outputs": [
        {
          "output_type": "stream",
          "name": "stdout",
          "text": [
            "第二阶段完成！\n",
            "输出结果：\n",
            "- user_embs.npy  （用户节点嵌入）\n",
            "- concept_embs.npy （概念节点嵌入）\n",
            "支撑第三阶段的推荐模型训练\n",
            "\n",
            "下一阶段 (03_recommendation_model.ipynb)：\n",
            "👉 将加载这些嵌入与行为特征\n",
            "👉 训练“融合 GCN + 行为特征”的推荐模型\n",
            "👉 评估 Precision@K、Recall@K、NDCG\n"
          ]
        }
      ]
    },
    {
      "cell_type": "code",
      "source": [
        "# 可选：检查 GPU\n",
        "import torch\n",
        "print(\"torch:\", torch.__version__, \"cuda:\", torch.cuda.is_available())\n"
      ],
      "metadata": {
        "colab": {
          "base_uri": "https://localhost:8080/"
        },
        "id": "12RujK9Sqqgr",
        "outputId": "96fcde97-3477-423b-da50-95039e8fde35"
      },
      "execution_count": 22,
      "outputs": [
        {
          "output_type": "stream",
          "name": "stdout",
          "text": [
            "torch: 2.8.0+cu126 cuda: True\n"
          ]
        }
      ]
    },
    {
      "cell_type": "code",
      "source": [
        "!pip install --upgrade pip\n",
        "!pip install pandas numpy scipy scikit-learn tqdm matplotlib seaborn\n",
        "# PyTorch is usually preinstalled on Colab. If not, uncomment below and adjust cuda version.\n",
        "# !pip install torch torchvision torchaudio --index-url https://download.pytorch.org/whl/cu118\n"
      ],
      "metadata": {
        "colab": {
          "base_uri": "https://localhost:8080/"
        },
        "id": "gEeRLuSrpp0o",
        "outputId": "52838f01-a6cf-4fb7-b7ff-0789b2c2da7f"
      },
      "execution_count": 23,
      "outputs": [
        {
          "output_type": "stream",
          "name": "stdout",
          "text": [
            "Requirement already satisfied: pip in /usr/local/lib/python3.12/dist-packages (24.1.2)\n",
            "Collecting pip\n",
            "  Downloading pip-25.2-py3-none-any.whl.metadata (4.7 kB)\n",
            "Downloading pip-25.2-py3-none-any.whl (1.8 MB)\n",
            "\u001b[2K   \u001b[90m━━━━━━━━━━━━━━━━━━━━━━━━━━━━━━━━━━━━━━━━\u001b[0m \u001b[32m1.8/1.8 MB\u001b[0m \u001b[31m32.2 MB/s\u001b[0m eta \u001b[36m0:00:00\u001b[0m\n",
            "\u001b[?25hInstalling collected packages: pip\n",
            "  Attempting uninstall: pip\n",
            "    Found existing installation: pip 24.1.2\n",
            "    Uninstalling pip-24.1.2:\n",
            "      Successfully uninstalled pip-24.1.2\n",
            "Successfully installed pip-25.2\n",
            "Requirement already satisfied: pandas in /usr/local/lib/python3.12/dist-packages (2.2.2)\n",
            "Requirement already satisfied: numpy in /usr/local/lib/python3.12/dist-packages (2.0.2)\n",
            "Requirement already satisfied: scipy in /usr/local/lib/python3.12/dist-packages (1.16.2)\n",
            "Requirement already satisfied: scikit-learn in /usr/local/lib/python3.12/dist-packages (1.6.1)\n",
            "Requirement already satisfied: tqdm in /usr/local/lib/python3.12/dist-packages (4.67.1)\n",
            "Requirement already satisfied: matplotlib in /usr/local/lib/python3.12/dist-packages (3.10.0)\n",
            "Requirement already satisfied: seaborn in /usr/local/lib/python3.12/dist-packages (0.13.2)\n",
            "Requirement already satisfied: python-dateutil>=2.8.2 in /usr/local/lib/python3.12/dist-packages (from pandas) (2.9.0.post0)\n",
            "Requirement already satisfied: pytz>=2020.1 in /usr/local/lib/python3.12/dist-packages (from pandas) (2025.2)\n",
            "Requirement already satisfied: tzdata>=2022.7 in /usr/local/lib/python3.12/dist-packages (from pandas) (2025.2)\n",
            "Requirement already satisfied: joblib>=1.2.0 in /usr/local/lib/python3.12/dist-packages (from scikit-learn) (1.5.2)\n",
            "Requirement already satisfied: threadpoolctl>=3.1.0 in /usr/local/lib/python3.12/dist-packages (from scikit-learn) (3.6.0)\n",
            "Requirement already satisfied: contourpy>=1.0.1 in /usr/local/lib/python3.12/dist-packages (from matplotlib) (1.3.3)\n",
            "Requirement already satisfied: cycler>=0.10 in /usr/local/lib/python3.12/dist-packages (from matplotlib) (0.12.1)\n",
            "Requirement already satisfied: fonttools>=4.22.0 in /usr/local/lib/python3.12/dist-packages (from matplotlib) (4.60.1)\n",
            "Requirement already satisfied: kiwisolver>=1.3.1 in /usr/local/lib/python3.12/dist-packages (from matplotlib) (1.4.9)\n",
            "Requirement already satisfied: packaging>=20.0 in /usr/local/lib/python3.12/dist-packages (from matplotlib) (25.0)\n",
            "Requirement already satisfied: pillow>=8 in /usr/local/lib/python3.12/dist-packages (from matplotlib) (11.3.0)\n",
            "Requirement already satisfied: pyparsing>=2.3.1 in /usr/local/lib/python3.12/dist-packages (from matplotlib) (3.2.5)\n",
            "Requirement already satisfied: six>=1.5 in /usr/local/lib/python3.12/dist-packages (from python-dateutil>=2.8.2->pandas) (1.17.0)\n"
          ]
        }
      ]
    },
    {
      "cell_type": "code",
      "source": [
        "import os, random, math, time\n",
        "from collections import defaultdict\n",
        "import numpy as np\n",
        "import pandas as pd\n",
        "from tqdm import tqdm\n",
        "\n",
        "import torch\n",
        "import torch.nn as nn\n",
        "import torch.nn.functional as F\n",
        "from torch.utils.data import Dataset, DataLoader\n",
        "\n",
        "from sklearn.preprocessing import StandardScaler\n",
        "from sklearn.metrics import roc_auc_score\n",
        "\n",
        "# reproducibility\n",
        "SEED = 42\n",
        "random.seed(SEED)\n",
        "np.random.seed(SEED)\n",
        "torch.manual_seed(SEED)\n",
        "if torch.cuda.is_available():\n",
        "    torch.cuda.manual_seed_all(SEED)\n",
        "\n",
        "DEVICE = torch.device(\"cuda\" if torch.cuda.is_available() else \"cpu\")\n",
        "print(\"Device:\", DEVICE)\n"
      ],
      "metadata": {
        "colab": {
          "base_uri": "https://localhost:8080/"
        },
        "id": "NqJXA49EoeLn",
        "outputId": "8c7bdc10-0ec5-4e8f-ba99-2d2d51f7f494"
      },
      "execution_count": 24,
      "outputs": [
        {
          "output_type": "stream",
          "name": "stdout",
          "text": [
            "Device: cuda\n"
          ]
        }
      ]
    },
    {
      "cell_type": "code",
      "source": [
        "DATA_DIR = \"/content/data\"  # 修改为你的路径（前两个 Notebook 的输出）\n",
        "# CSVs\n",
        "users_df = pd.read_csv(os.path.join(DATA_DIR,\"users.csv\"))\n",
        "videos_df = pd.read_csv(os.path.join(DATA_DIR,\"videos.csv\"))\n",
        "concepts_df = pd.read_csv(os.path.join(DATA_DIR,\"concepts.csv\"))\n",
        "logs_df = pd.read_csv(os.path.join(DATA_DIR,\"watch_logs.csv\"))\n",
        "edges_df = pd.read_csv(os.path.join(DATA_DIR,\"video_concept_edges.csv\"))\n",
        "\n",
        "# Embeddings from stage 2\n",
        "user_emb_path = os.path.join(DATA_DIR, \"user_embs.npy\")\n",
        "concept_emb_path = os.path.join(DATA_DIR, \"concept_embs.npy\")\n",
        "if not os.path.exists(user_emb_path) or not os.path.exists(concept_emb_path):\n",
        "    raise FileNotFoundError(\"找不到 user_embs.npy 或 concept_embs.npy，请先运行 02_HIN_GCN_training.ipynb\")\n",
        "\n",
        "user_embs = np.load(user_emb_path)\n",
        "concept_embs = np.load(concept_emb_path)\n",
        "print(\"Loaded embeddings:\", user_embs.shape, concept_embs.shape)\n",
        "\n",
        "# Recreate mappings (must match the ones used when creating embeddings)\n",
        "user2idx = {u:i for i,u in enumerate(users_df[\"user_id\"].unique())}\n",
        "idx2user = {i:u for u,i in user2idx.items()}\n",
        "concept2idx = {c:i for i,c in enumerate(concepts_df[\"concept_id\"].unique())}\n",
        "idx2concept = {i:c for c,i in concept2idx.items()}\n",
        "\n",
        "num_users = len(user2idx)\n",
        "num_concepts = len(concept2idx)\n",
        "print(\"num_users\", num_users, \"num_concepts\", num_concepts)\n",
        "\n",
        "# Basic check: embeddings must align with node counts\n",
        "if user_embs.shape[0] != num_users:\n",
        "    print(\"警告: user_embs 行数与 users.csv 中 unique user_id 数不一致。请确保映射一致。\")\n",
        "if concept_embs.shape[0] != num_concepts:\n",
        "    print(\"警告: concept_embs 行数与 concepts.csv 不一致。\")\n"
      ],
      "metadata": {
        "colab": {
          "base_uri": "https://localhost:8080/"
        },
        "id": "WBVGCK04qvLh",
        "outputId": "4accda81-9e8a-458e-9873-803a7fc34b4f"
      },
      "execution_count": 25,
      "outputs": [
        {
          "output_type": "stream",
          "name": "stdout",
          "text": [
            "Loaded embeddings: (50, 64) (30, 64)\n",
            "num_users 50 num_concepts 30\n"
          ]
        }
      ]
    },
    {
      "cell_type": "code",
      "source": [
        "# Build user->concept interactions:\n",
        "# For each log (user_id, video_id), map video->concepts via edges_df\n",
        "video_to_concepts = edges_df.groupby(\"video_id\")[\"concept_id\"].apply(lambda s: list(s)).to_dict()\n",
        "\n",
        "user_concept_set = defaultdict(set)\n",
        "for _, row in logs_df.iterrows():\n",
        "    u = row[\"user_id\"]\n",
        "    v = row[\"video_id\"]\n",
        "    if v in video_to_concepts:\n",
        "        for c in video_to_concepts[v]:\n",
        "            user_concept_set[u].add(c)\n",
        "\n",
        "# Convert to list pairs (u_idx, c_idx)\n",
        "pairs = []\n",
        "for u, cons in user_concept_set.items():\n",
        "    uidx = user2idx.get(u, None)\n",
        "    if uidx is None: continue\n",
        "    for c in cons:\n",
        "        cidx = concept2idx.get(c, None)\n",
        "        if cidx is None: continue\n",
        "        pairs.append((uidx, cidx))\n",
        "\n",
        "print(\"Total user-concept interactions:\", len(pairs))\n",
        "\n",
        "# Build per-user lists and apply leave-one-out (holdout 1 item per user as test if possible)\n",
        "from collections import defaultdict\n",
        "user_pos = defaultdict(list)\n",
        "for u,c in pairs:\n",
        "    user_pos[u].append(c)\n",
        "\n",
        "train_pairs = []\n",
        "test_pairs = []\n",
        "for u, clist in user_pos.items():\n",
        "    if len(clist) == 0:\n",
        "        continue\n",
        "    if len(clist) == 1:\n",
        "        train_pairs.append((u, clist[0]))\n",
        "    else:\n",
        "        test_c = random.choice(clist)\n",
        "        test_pairs.append((u, test_c))\n",
        "        for c in clist:\n",
        "            if c != test_c:\n",
        "                train_pairs.append((u,c))\n",
        "\n",
        "print(\"Train len:\", len(train_pairs), \"Test len:\", len(test_pairs))\n"
      ],
      "metadata": {
        "colab": {
          "base_uri": "https://localhost:8080/"
        },
        "id": "1gkDDCnHqu-i",
        "outputId": "8bee36b0-8f25-40c6-d05e-21e827861c69"
      },
      "execution_count": 26,
      "outputs": [
        {
          "output_type": "stream",
          "name": "stdout",
          "text": [
            "Total user-concept interactions: 852\n",
            "Train len: 802 Test len: 50\n"
          ]
        }
      ]
    },
    {
      "cell_type": "code",
      "source": [
        "# We'll use per-user features from users_df if present (avg_speed, avg_completion, total_watch_time)\n",
        "feat_cols = []\n",
        "if \"avg_speed\" in users_df.columns and \"avg_completion\" in users_df.columns and \"total_watch_time\" in users_df.columns:\n",
        "    feat_cols = [\"avg_speed\",\"avg_completion\",\"total_watch_time\"]\n",
        "else:\n",
        "    # If not present, compute from logs_df (fallback)\n",
        "    tmp = logs_df.groupby(\"user_id\").agg(\n",
        "        avg_speed=(\"avg_playback_speed\",\"mean\"),\n",
        "        avg_completion=(\"completion_rate\",\"mean\"),\n",
        "        total_watch_time=(\"watch_time\",\"sum\")\n",
        "    ).reset_index()\n",
        "    users_df = users_df.merge(tmp, on=\"user_id\", how=\"left\").fillna(0)\n",
        "    feat_cols = [\"avg_speed\",\"avg_completion\",\"total_watch_time\"]\n",
        "\n",
        "# Build matrix by user index order\n",
        "user_feat_df = users_df.set_index(\"user_id\").reindex([idx2user[i] for i in range(num_users)]).fillna(0)\n",
        "X_user = user_feat_df[feat_cols].values\n",
        "scaler = StandardScaler()\n",
        "X_user_scaled = scaler.fit_transform(X_user)\n",
        "print(\"User features shape:\", X_user_scaled.shape)\n"
      ],
      "metadata": {
        "colab": {
          "base_uri": "https://localhost:8080/"
        },
        "id": "JyvM5xicqu1C",
        "outputId": "873b5c84-7672-48f6-c898-3fd36de4a305"
      },
      "execution_count": 27,
      "outputs": [
        {
          "output_type": "stream",
          "name": "stdout",
          "text": [
            "User features shape: (50, 3)\n"
          ]
        }
      ]
    },
    {
      "cell_type": "code",
      "source": [
        "import numpy as np\n",
        "import math\n",
        "\n",
        "def ndcg_at_k(rank_list, ground_truth, k):\n",
        "    # rank_list: list of item ids (predicted top-k)\n",
        "    # ground_truth: set of true item ids (here one item)\n",
        "    for i, item in enumerate(rank_list[:k]):\n",
        "        if item in ground_truth:\n",
        "            return 1.0 / math.log2(i+2)  # i starts at 0\n",
        "    return 0.0\n",
        "\n",
        "def evaluate_ranking_scores(score_fn, test_pairs, train_user_pos, num_items, K_list=[5,10], negatives=100):\n",
        "    # score_fn(user_idx, item_list) -> scores (numpy array)\n",
        "    results = {f\"P@{k}\":0.0 for k in K_list}\n",
        "    results.update({f\"R@{k}\":0.0 for k in K_list})\n",
        "    results.update({f\"NDCG@{k}\":0.0 for k in K_list})\n",
        "    n_users = len(test_pairs)\n",
        "    for (u, pos_item) in tqdm(test_pairs):\n",
        "        # sample negatives that user has not interacted with\n",
        "        negs = []\n",
        "        while len(negs) < negatives:\n",
        "            cand = random.randrange(num_items)\n",
        "            if cand not in train_user_pos[u] and cand != pos_item:\n",
        "                negs.append(cand)\n",
        "        item_list = [pos_item] + negs\n",
        "        scores = score_fn(u, item_list)\n",
        "        ranked_idx = np.argsort(-scores)  # indices into item_list\n",
        "        ranked_items = [item_list[i] for i in ranked_idx]\n",
        "        for K in K_list:\n",
        "            topk = ranked_items[:K]\n",
        "            hit = 1.0 if pos_item in topk else 0.0\n",
        "            results[f\"P@{K}\"] += hit / K\n",
        "            results[f\"R@{K}\"] += hit\n",
        "            results[f\"NDCG@{K}\"] += ndcg_at_k(ranked_items, {pos_item}, K)\n",
        "    # normalize\n",
        "    for K in K_list:\n",
        "        results[f\"P@{K}\"] /= n_users\n",
        "        results[f\"R@{K}\"] /= n_users\n",
        "        results[f\"NDCG@{K}\"] /= n_users\n",
        "    return results\n"
      ],
      "metadata": {
        "id": "sL9rA0TEqur8"
      },
      "execution_count": 28,
      "outputs": []
    },
    {
      "cell_type": "code",
      "source": [
        "class MFModel(nn.Module):\n",
        "    def __init__(self, n_users, n_items, emb_dim=64):\n",
        "        super().__init__()\n",
        "        self.user_emb = nn.Embedding(n_users, emb_dim)\n",
        "        self.item_emb = nn.Embedding(n_items, emb_dim)\n",
        "        nn.init.normal_(self.user_emb.weight, std=0.01)\n",
        "        nn.init.normal_(self.item_emb.weight, std=0.01)\n",
        "    def forward(self, u_idx, i_idx):\n",
        "        u = self.user_emb(u_idx)\n",
        "        v = self.item_emb(i_idx)\n",
        "        score = (u * v).sum(dim=1)\n",
        "        return score\n",
        "\n",
        "def train_mf(train_pairs, num_users, num_items, emb_dim=64, epochs=5, neg_ratio=4, batch_size=1024):\n",
        "    model = MFModel(num_users, num_items, emb_dim).to(DEVICE)\n",
        "    opt = torch.optim.Adam(model.parameters(), lr=0.01, weight_decay=1e-5)\n",
        "    bce = nn.BCEWithLogitsLoss()\n",
        "    # prepare training samples with negatives\n",
        "    data = []\n",
        "    train_set = set(train_pairs)\n",
        "    for (u,i) in train_pairs:\n",
        "        data.append((u,i,1))\n",
        "        for _ in range(neg_ratio):\n",
        "            neg = random.randrange(num_items)\n",
        "            while (u,neg) in train_set:\n",
        "                neg = random.randrange(num_items)\n",
        "            data.append((u,neg,0))\n",
        "    class PairDataset(Dataset):\n",
        "        def __init__(self, data): self.data = data\n",
        "        def __len__(self): return len(self.data)\n",
        "        def __getitem__(self, idx): return self.data[idx]\n",
        "    loader = DataLoader(PairDataset(data), batch_size=batch_size, shuffle=True)\n",
        "    for epoch in range(epochs):\n",
        "        model.train()\n",
        "        total_loss = 0.0\n",
        "        for batch in loader:\n",
        "            u_idx, i_idx, labels = batch\n",
        "            u_idx = torch.tensor(u_idx, dtype=torch.long, device=DEVICE)\n",
        "            i_idx = torch.tensor(i_idx, dtype=torch.long, device=DEVICE)\n",
        "            labels = torch.tensor(labels, dtype=torch.float32, device=DEVICE)\n",
        "            preds = model(u_idx, i_idx)\n",
        "            loss = bce(preds, labels)\n",
        "            opt.zero_grad(); loss.backward(); opt.step()\n",
        "            total_loss += loss.item() * len(labels)\n",
        "        print(f\"MF Epoch {epoch} avg_loss {total_loss/len(loader.dataset):.6f}\")\n",
        "    return model\n",
        "\n",
        "# Train MF (items = concepts)\n",
        "print(\"Training MF baseline...\")\n",
        "mf_model = train_mf(train_pairs, num_users, num_concepts, emb_dim=64, epochs=6, neg_ratio=4, batch_size=2048)\n"
      ],
      "metadata": {
        "colab": {
          "base_uri": "https://localhost:8080/"
        },
        "id": "69_D5q5Pqujw",
        "outputId": "59b4f71e-ae17-44a1-e5c7-357797307b52"
      },
      "execution_count": 29,
      "outputs": [
        {
          "output_type": "stream",
          "name": "stdout",
          "text": [
            "Training MF baseline...\n",
            "MF Epoch 0 avg_loss 0.692772\n",
            "MF Epoch 1 avg_loss 0.688594\n",
            "MF Epoch 2 avg_loss 0.679014\n",
            "MF Epoch 3 avg_loss 0.662585\n",
            "MF Epoch 4 avg_loss 0.638895\n",
            "MF Epoch 5 avg_loss 0.607955\n"
          ]
        },
        {
          "output_type": "stream",
          "name": "stderr",
          "text": [
            "/tmp/ipython-input-2910632463.py:38: UserWarning: To copy construct from a tensor, it is recommended to use sourceTensor.detach().clone() or sourceTensor.detach().clone().requires_grad_(True), rather than torch.tensor(sourceTensor).\n",
            "  u_idx = torch.tensor(u_idx, dtype=torch.long, device=DEVICE)\n",
            "/tmp/ipython-input-2910632463.py:39: UserWarning: To copy construct from a tensor, it is recommended to use sourceTensor.detach().clone() or sourceTensor.detach().clone().requires_grad_(True), rather than torch.tensor(sourceTensor).\n",
            "  i_idx = torch.tensor(i_idx, dtype=torch.long, device=DEVICE)\n",
            "/tmp/ipython-input-2910632463.py:40: UserWarning: To copy construct from a tensor, it is recommended to use sourceTensor.detach().clone() or sourceTensor.detach().clone().requires_grad_(True), rather than torch.tensor(sourceTensor).\n",
            "  labels = torch.tensor(labels, dtype=torch.float32, device=DEVICE)\n"
          ]
        }
      ]
    },
    {
      "cell_type": "code",
      "source": [
        "# user_embs, concept_embs are numpy arrays loaded earlier\n",
        "user_embs_np = user_embs.astype(np.float32)\n",
        "concept_embs_np = concept_embs.astype(np.float32)\n",
        "\n",
        "def gcn_dot_score_fn(u, item_list):\n",
        "    u_emb = user_embs_np[u]  # d\n",
        "    cand_embs = concept_embs_np[item_list]  # len x d\n",
        "    scores = cand_embs.dot(u_emb)\n",
        "    return scores\n"
      ],
      "metadata": {
        "id": "a_4cacHFquaD"
      },
      "execution_count": 30,
      "outputs": []
    },
    {
      "cell_type": "code",
      "source": [
        "# ScoreModel: input [user_gcn_emb ; item_gcn_emb ; user_feat] -> score\n",
        "class ScoreModel(nn.Module):\n",
        "    def __init__(self, emb_dim, user_feat_dim, hidden=128):\n",
        "        super().__init__()\n",
        "        self.fc1 = nn.Linear(emb_dim*2 + user_feat_dim, hidden)\n",
        "        self.fc2 = nn.Linear(hidden, 1)\n",
        "    def forward(self, u_emb, i_emb, u_feat):\n",
        "        x = torch.cat([u_emb, i_emb, u_feat], dim=1)\n",
        "        x = F.relu(self.fc1(x))\n",
        "        return self.fc2(x).squeeze(1)\n",
        "\n",
        "# Prepare tensors\n",
        "user_emb_tensor = torch.tensor(user_embs_np, dtype=torch.float32, device=DEVICE)\n",
        "concept_emb_tensor = torch.tensor(concept_embs_np, dtype=torch.float32, device=DEVICE)\n",
        "user_feat_tensor = torch.tensor(X_user_scaled, dtype=torch.float32, device=DEVICE)\n",
        "\n",
        "# Training dataset for ScoreModel (train_pairs positive + neg sampling)\n",
        "def make_score_loader(train_pairs, num_items, neg_ratio=4, batch_size=2048):\n",
        "    train_set = set(train_pairs)\n",
        "    data = []\n",
        "    for (u,i) in train_pairs:\n",
        "        data.append((u,i,1))\n",
        "        for _ in range(neg_ratio):\n",
        "            neg = random.randrange(num_items)\n",
        "            while (u,neg) in train_set:\n",
        "                neg = random.randrange(num_items)\n",
        "            data.append((u,neg,0))\n",
        "    random.shuffle(data)\n",
        "    class PairDataset(Dataset):\n",
        "        def __init__(self,data): self.data=data\n",
        "        def __len__(self): return len(self.data)\n",
        "        def __getitem__(self, idx): return self.data[idx]\n",
        "    return DataLoader(PairDataset(data), batch_size=batch_size, shuffle=True)\n",
        "\n",
        "score_model = ScoreModel(emb_dim=concept_embs_np.shape[1], user_feat_dim=user_feat_tensor.shape[1], hidden=128).to(DEVICE)\n",
        "opt = torch.optim.Adam(score_model.parameters(), lr=0.001, weight_decay=1e-5)\n",
        "bce = nn.BCEWithLogitsLoss()\n",
        "\n",
        "print(\"Training GCN+Behavior score model...\")\n",
        "loader = make_score_loader(train_pairs, num_concepts, neg_ratio=4, batch_size=2048)\n",
        "for epoch in range(8):\n",
        "    score_model.train()\n",
        "    tot_loss = 0.0\n",
        "    for batch in loader:\n",
        "        u_idx, c_idx, labels = batch\n",
        "        u_idx = torch.tensor(u_idx, dtype=torch.long, device=DEVICE)\n",
        "        c_idx = torch.tensor(c_idx, dtype=torch.long, device=DEVICE)\n",
        "        labels = torch.tensor(labels, dtype=torch.float32, device=DEVICE)\n",
        "        u_emb = user_emb_tensor[u_idx]\n",
        "        c_emb = concept_emb_tensor[c_idx]\n",
        "        u_feat = user_feat_tensor[u_idx]\n",
        "        preds = score_model(u_emb, c_emb, u_feat)\n",
        "        loss = bce(preds, labels)\n",
        "        opt.zero_grad(); loss.backward(); opt.step()\n",
        "        tot_loss += loss.item() * len(labels)\n",
        "    print(f\"Epoch {epoch} avg_loss {tot_loss/len(loader.dataset):.6f}\")\n"
      ],
      "metadata": {
        "colab": {
          "base_uri": "https://localhost:8080/"
        },
        "id": "x6PgulNvquRj",
        "outputId": "4c766096-b409-4b6b-a621-2b49a3a7a7bb"
      },
      "execution_count": 31,
      "outputs": [
        {
          "output_type": "stream",
          "name": "stdout",
          "text": [
            "Training GCN+Behavior score model...\n"
          ]
        },
        {
          "output_type": "stream",
          "name": "stderr",
          "text": [
            "/tmp/ipython-input-266211742.py:46: UserWarning: To copy construct from a tensor, it is recommended to use sourceTensor.detach().clone() or sourceTensor.detach().clone().requires_grad_(True), rather than torch.tensor(sourceTensor).\n",
            "  u_idx = torch.tensor(u_idx, dtype=torch.long, device=DEVICE)\n",
            "/tmp/ipython-input-266211742.py:47: UserWarning: To copy construct from a tensor, it is recommended to use sourceTensor.detach().clone() or sourceTensor.detach().clone().requires_grad_(True), rather than torch.tensor(sourceTensor).\n",
            "  c_idx = torch.tensor(c_idx, dtype=torch.long, device=DEVICE)\n",
            "/tmp/ipython-input-266211742.py:48: UserWarning: To copy construct from a tensor, it is recommended to use sourceTensor.detach().clone() or sourceTensor.detach().clone().requires_grad_(True), rather than torch.tensor(sourceTensor).\n",
            "  labels = torch.tensor(labels, dtype=torch.float32, device=DEVICE)\n"
          ]
        },
        {
          "output_type": "stream",
          "name": "stdout",
          "text": [
            "Epoch 0 avg_loss 0.712137\n",
            "Epoch 1 avg_loss 0.701843\n",
            "Epoch 2 avg_loss 0.691997\n",
            "Epoch 3 avg_loss 0.682288\n",
            "Epoch 4 avg_loss 0.672943\n",
            "Epoch 5 avg_loss 0.663877\n",
            "Epoch 6 avg_loss 0.654924\n",
            "Epoch 7 avg_loss 0.646115\n"
          ]
        }
      ]
    },
    {
      "cell_type": "code",
      "source": [
        "def score_model_fn(u, item_list):\n",
        "    # compute scores for a list of items for user u, return numpy array\n",
        "    u_idx = np.array([u])\n",
        "    u_emb = user_emb_tensor[u:u+1]  # 1xd\n",
        "    u_feat = user_feat_tensor[u:u+1]\n",
        "    c_embs = concept_emb_tensor[item_list]  # m x d\n",
        "    u_emb_exp = u_emb.repeat(len(item_list),1)\n",
        "    u_feat_exp = u_feat.repeat(len(item_list),1)\n",
        "    with torch.no_grad():\n",
        "        sc = score_model(u_emb_exp, c_embs, u_feat_exp).cpu().numpy()\n",
        "    return sc\n"
      ],
      "metadata": {
        "id": "4oO5uNIRquJB"
      },
      "execution_count": 32,
      "outputs": []
    },
    {
      "cell_type": "code",
      "source": [
        "# Build train_user_pos set for fast checking\n",
        "train_user_pos = defaultdict(set)\n",
        "for (u,c) in train_pairs:\n",
        "    train_user_pos[u].add(c)\n",
        "\n",
        "# 1) Evaluate MF baseline (we need a wrapper to score)\n",
        "def mf_score_fn_factory(mf_model):\n",
        "    # mf_model is on DEVICE\n",
        "    mf_model.eval()\n",
        "    def fn(u, item_list):\n",
        "        u_idx = torch.tensor([u]*len(item_list), dtype=torch.long, device=DEVICE)\n",
        "        i_idx = torch.tensor(item_list, dtype=torch.long, device=DEVICE)\n",
        "        with torch.no_grad():\n",
        "            scores = mf_model(u_idx, i_idx).cpu().numpy()\n",
        "        return scores\n",
        "    return fn\n",
        "\n",
        "mf_score_fn = mf_score_fn_factory(mf_model)\n",
        "gcn_score_fn = gcn_dot_score_fn\n",
        "gb_score_fn = score_model_fn\n",
        "\n",
        "K_list = [5,10]\n",
        "print(\"Evaluating MF baseline...\")\n",
        "res_mf = evaluate_ranking_scores(mf_score_fn, test_pairs, train_user_pos, num_concepts, K_list=K_list, negatives=200)\n",
        "print(\"MF results:\", res_mf)\n",
        "\n",
        "print(\"\\nEvaluating GCN-dot (no training)...\")\n",
        "res_gcn = evaluate_ranking_scores(gcn_score_fn, test_pairs, train_user_pos, num_concepts, K_list=K_list, negatives=200)\n",
        "print(\"GCN-dot results:\", res_gcn)\n",
        "\n",
        "print(\"\\nEvaluating GCN+Behavior...\")\n",
        "res_gb = evaluate_ranking_scores(gb_score_fn, test_pairs, train_user_pos, num_concepts, K_list=K_list, negatives=200)\n",
        "print(\"GCN+Behavior results:\", res_gb)\n"
      ],
      "metadata": {
        "colab": {
          "base_uri": "https://localhost:8080/"
        },
        "id": "V3v8bKzFqt9k",
        "outputId": "a46730b2-0187-4b21-b566-e4332961635d"
      },
      "execution_count": 33,
      "outputs": [
        {
          "output_type": "stream",
          "name": "stdout",
          "text": [
            "Evaluating MF baseline...\n"
          ]
        },
        {
          "output_type": "stream",
          "name": "stderr",
          "text": [
            "100%|██████████| 50/50 [00:00<00:00, 1063.62it/s]\n"
          ]
        },
        {
          "output_type": "stream",
          "name": "stdout",
          "text": [
            "MF results: {'P@5': 0.02, 'P@10': 0.013999999999999999, 'R@5': 0.1, 'R@10': 0.14, 'NDCG@5': 0.1, 'NDCG@10': 0.11290544026851819}\n",
            "\n",
            "Evaluating GCN-dot (no training)...\n"
          ]
        },
        {
          "output_type": "stream",
          "name": "stderr",
          "text": [
            "100%|██████████| 50/50 [00:00<00:00, 2401.16it/s]\n"
          ]
        },
        {
          "output_type": "stream",
          "name": "stdout",
          "text": [
            "GCN-dot results: {'P@5': 0.19199999999999995, 'P@10': 0.09599999999999997, 'R@5': 0.96, 'R@10': 0.96, 'NDCG@5': 0.96, 'NDCG@10': 0.96}\n",
            "\n",
            "Evaluating GCN+Behavior...\n"
          ]
        },
        {
          "output_type": "stream",
          "name": "stderr",
          "text": [
            "100%|██████████| 50/50 [00:00<00:00, 1382.42it/s]"
          ]
        },
        {
          "output_type": "stream",
          "name": "stdout",
          "text": [
            "GCN+Behavior results: {'P@5': 0.039999999999999994, 'P@10': 0.022, 'R@5': 0.2, 'R@10': 0.22, 'NDCG@5': 0.2, 'NDCG@10': 0.20578129652635774}\n"
          ]
        },
        {
          "output_type": "stream",
          "name": "stderr",
          "text": [
            "\n"
          ]
        }
      ]
    },
    {
      "cell_type": "code",
      "source": [
        "import matplotlib.pyplot as plt\n",
        "\n",
        "def print_results(tag, d):\n",
        "    print(tag)\n",
        "    for k,v in d.items():\n",
        "        print(f\"  {k}: {v:.4f}\")\n",
        "    print()\n",
        "\n",
        "print_results(\"MF\", res_mf)\n",
        "print_results(\"GCN-dot\", res_gcn)\n",
        "print_results(\"GCN+Behavior\", res_gb)\n",
        "\n",
        "# Simple bar chart for P@10\n",
        "methods = [\"MF\",\"GCN-dot\",\"GCN+Behavior\"]\n",
        "p10 = [res_mf[\"P@10\"], res_gcn[\"P@10\"], res_gb[\"P@10\"]]\n",
        "r10 = [res_mf[\"R@10\"], res_gcn[\"R@10\"], res_gb[\"R@10\"]]\n",
        "ndcg10 = [res_mf[\"NDCG@10\"], res_gcn[\"NDCG@10\"], res_gb[\"NDCG@10\"]]\n",
        "\n",
        "x = np.arange(len(methods))\n",
        "plt.figure(figsize=(8,4))\n",
        "plt.bar(x-0.2, p10, width=0.2, label=\"P@10\")\n",
        "plt.bar(x, r10, width=0.2, label=\"R@10\")\n",
        "plt.bar(x+0.2, ndcg10, width=0.2, label=\"NDCG@10\")\n",
        "plt.xticks(x, methods)\n",
        "plt.ylim(0, max(max(p10), max(r10), max(ndcg10))*1.4 + 1e-6)\n",
        "plt.legend()\n",
        "plt.title(\"Model comparison (sampled negatives)\")\n",
        "plt.show()\n"
      ],
      "metadata": {
        "colab": {
          "base_uri": "https://localhost:8080/",
          "height": 832
        },
        "id": "ZWLWedrFrFCq",
        "outputId": "c39d8371-4e6a-4667-8712-39ff3179d00b"
      },
      "execution_count": 34,
      "outputs": [
        {
          "output_type": "stream",
          "name": "stdout",
          "text": [
            "MF\n",
            "  P@5: 0.0200\n",
            "  P@10: 0.0140\n",
            "  R@5: 0.1000\n",
            "  R@10: 0.1400\n",
            "  NDCG@5: 0.1000\n",
            "  NDCG@10: 0.1129\n",
            "\n",
            "GCN-dot\n",
            "  P@5: 0.1920\n",
            "  P@10: 0.0960\n",
            "  R@5: 0.9600\n",
            "  R@10: 0.9600\n",
            "  NDCG@5: 0.9600\n",
            "  NDCG@10: 0.9600\n",
            "\n",
            "GCN+Behavior\n",
            "  P@5: 0.0400\n",
            "  P@10: 0.0220\n",
            "  R@5: 0.2000\n",
            "  R@10: 0.2200\n",
            "  NDCG@5: 0.2000\n",
            "  NDCG@10: 0.2058\n",
            "\n"
          ]
        },
        {
          "output_type": "display_data",
          "data": {
            "text/plain": [
              "<Figure size 800x400 with 1 Axes>"
            ],
            "image/png": "[encoded data removed]"
          },
          "metadata": {}
        }
      ]
    },
    {
      "cell_type": "code",
      "source": [
        "# Try different feature subsets: ['avg_speed'], ['avg_completion'], ['total_watch_time'], ['speed+comp'], ['all']\n",
        "col_options = {\n",
        "    \"speed\": [\"avg_speed\"],\n",
        "    \"completion\": [\"avg_completion\"],\n",
        "    \"time\": [\"total_watch_time\"],\n",
        "    \"speed+comp\": [\"avg_speed\",\"avg_completion\"],\n",
        "    \"all\": feat_cols  # from earlier\n",
        "}\n",
        "\n",
        "ablation_results = {}\n",
        "for name, cols in col_options.items():\n",
        "    print(\"Ablation:\", name)\n",
        "    # build X_user_scaled for these cols\n",
        "    X_sub = users_df.set_index(\"user_id\").reindex([idx2user[i] for i in range(num_users)])[cols].fillna(0).values\n",
        "    X_sub_scaled = StandardScaler().fit_transform(X_sub)\n",
        "    user_feat_tensor_sub = torch.tensor(X_sub_scaled, dtype=torch.float32, device=DEVICE)\n",
        "    # quick small model (reuse ScoreModel architecture)\n",
        "    model_sub = ScoreModel(emb_dim=concept_embs_np.shape[1], user_feat_dim=user_feat_tensor_sub.shape[1], hidden=128).to(DEVICE)\n",
        "    opt_sub = torch.optim.Adam(model_sub.parameters(), lr=0.001, weight_decay=1e-5)\n",
        "    loader_sub = make_score_loader(train_pairs, num_concepts, neg_ratio=4, batch_size=2048)\n",
        "    # train short\n",
        "    for epoch in range(4):\n",
        "        model_sub.train()\n",
        "        for batch in loader_sub:\n",
        "            u_idx, c_idx, labels = batch\n",
        "            u_idx = torch.tensor(u_idx, dtype=torch.long, device=DEVICE)\n",
        "            c_idx = torch.tensor(c_idx, dtype=torch.long, device=DEVICE)\n",
        "            labels = torch.tensor(labels, dtype=torch.float32, device=DEVICE)\n",
        "            u_emb = user_emb_tensor[u_idx]\n",
        "            c_emb = concept_emb_tensor[c_idx]\n",
        "            u_feat = user_feat_tensor_sub[u_idx]\n",
        "            preds = model_sub(u_emb, c_emb, u_feat)\n",
        "            loss = bce(preds, labels)\n",
        "            opt_sub.zero_grad(); loss.backward(); opt_sub.step()\n",
        "    # evaluate\n",
        "    def model_sub_fn(u, item_list):\n",
        "        u_emb = user_emb_tensor[u:u+1]\n",
        "        u_feat = user_feat_tensor_sub[u:u+1]\n",
        "        c_embs = concept_emb_tensor[item_list]\n",
        "        with torch.no_grad():\n",
        "            sc = model_sub(u_emb.repeat(len(item_list),1), c_embs, u_feat.repeat(len(item_list),1)).cpu().numpy()\n",
        "        return sc\n",
        "    res = evaluate_ranking_scores(model_sub_fn, test_pairs, train_user_pos, num_concepts, K_list=[10], negatives=200)\n",
        "    ablation_results[name] = res\n",
        "    print(name, res)\n",
        "print(\"Ablation done:\", ablation_results)\n"
      ],
      "metadata": {
        "colab": {
          "base_uri": "https://localhost:8080/"
        },
        "id": "5czagd8hrE7T",
        "outputId": "186e1062-8057-42eb-e953-fd9ef1a56f57"
      },
      "execution_count": 35,
      "outputs": [
        {
          "output_type": "stream",
          "name": "stdout",
          "text": [
            "Ablation: speed\n"
          ]
        },
        {
          "output_type": "stream",
          "name": "stderr",
          "text": [
            "/tmp/ipython-input-1523415671.py:26: UserWarning: To copy construct from a tensor, it is recommended to use sourceTensor.detach().clone() or sourceTensor.detach().clone().requires_grad_(True), rather than torch.tensor(sourceTensor).\n",
            "  u_idx = torch.tensor(u_idx, dtype=torch.long, device=DEVICE)\n",
            "/tmp/ipython-input-1523415671.py:27: UserWarning: To copy construct from a tensor, it is recommended to use sourceTensor.detach().clone() or sourceTensor.detach().clone().requires_grad_(True), rather than torch.tensor(sourceTensor).\n",
            "  c_idx = torch.tensor(c_idx, dtype=torch.long, device=DEVICE)\n",
            "/tmp/ipython-input-1523415671.py:28: UserWarning: To copy construct from a tensor, it is recommended to use sourceTensor.detach().clone() or sourceTensor.detach().clone().requires_grad_(True), rather than torch.tensor(sourceTensor).\n",
            "  labels = torch.tensor(labels, dtype=torch.float32, device=DEVICE)\n",
            "100%|██████████| 50/50 [00:00<00:00, 869.56it/s]\n",
            "/tmp/ipython-input-1523415671.py:26: UserWarning: To copy construct from a tensor, it is recommended to use sourceTensor.detach().clone() or sourceTensor.detach().clone().requires_grad_(True), rather than torch.tensor(sourceTensor).\n",
            "  u_idx = torch.tensor(u_idx, dtype=torch.long, device=DEVICE)\n",
            "/tmp/ipython-input-1523415671.py:27: UserWarning: To copy construct from a tensor, it is recommended to use sourceTensor.detach().clone() or sourceTensor.detach().clone().requires_grad_(True), rather than torch.tensor(sourceTensor).\n",
            "  c_idx = torch.tensor(c_idx, dtype=torch.long, device=DEVICE)\n",
            "/tmp/ipython-input-1523415671.py:28: UserWarning: To copy construct from a tensor, it is recommended to use sourceTensor.detach().clone() or sourceTensor.detach().clone().requires_grad_(True), rather than torch.tensor(sourceTensor).\n",
            "  labels = torch.tensor(labels, dtype=torch.float32, device=DEVICE)\n"
          ]
        },
        {
          "output_type": "stream",
          "name": "stdout",
          "text": [
            "speed {'P@10': 0.019999999999999997, 'R@10': 0.2, 'NDCG@10': 0.18578129652635775}\n",
            "Ablation: completion\n"
          ]
        },
        {
          "output_type": "stream",
          "name": "stderr",
          "text": [
            "100%|██████████| 50/50 [00:00<00:00, 802.33it/s]\n",
            "/tmp/ipython-input-1523415671.py:26: UserWarning: To copy construct from a tensor, it is recommended to use sourceTensor.detach().clone() or sourceTensor.detach().clone().requires_grad_(True), rather than torch.tensor(sourceTensor).\n",
            "  u_idx = torch.tensor(u_idx, dtype=torch.long, device=DEVICE)\n",
            "/tmp/ipython-input-1523415671.py:27: UserWarning: To copy construct from a tensor, it is recommended to use sourceTensor.detach().clone() or sourceTensor.detach().clone().requires_grad_(True), rather than torch.tensor(sourceTensor).\n",
            "  c_idx = torch.tensor(c_idx, dtype=torch.long, device=DEVICE)\n",
            "/tmp/ipython-input-1523415671.py:28: UserWarning: To copy construct from a tensor, it is recommended to use sourceTensor.detach().clone() or sourceTensor.detach().clone().requires_grad_(True), rather than torch.tensor(sourceTensor).\n",
            "  labels = torch.tensor(labels, dtype=torch.float32, device=DEVICE)\n"
          ]
        },
        {
          "output_type": "stream",
          "name": "stdout",
          "text": [
            "completion {'P@10': 0.016, 'R@10': 0.16, 'NDCG@10': 0.16}\n",
            "Ablation: time\n"
          ]
        },
        {
          "output_type": "stream",
          "name": "stderr",
          "text": [
            "100%|██████████| 50/50 [00:00<00:00, 999.67it/s]\n",
            "/tmp/ipython-input-1523415671.py:26: UserWarning: To copy construct from a tensor, it is recommended to use sourceTensor.detach().clone() or sourceTensor.detach().clone().requires_grad_(True), rather than torch.tensor(sourceTensor).\n",
            "  u_idx = torch.tensor(u_idx, dtype=torch.long, device=DEVICE)\n",
            "/tmp/ipython-input-1523415671.py:27: UserWarning: To copy construct from a tensor, it is recommended to use sourceTensor.detach().clone() or sourceTensor.detach().clone().requires_grad_(True), rather than torch.tensor(sourceTensor).\n",
            "  c_idx = torch.tensor(c_idx, dtype=torch.long, device=DEVICE)\n",
            "/tmp/ipython-input-1523415671.py:28: UserWarning: To copy construct from a tensor, it is recommended to use sourceTensor.detach().clone() or sourceTensor.detach().clone().requires_grad_(True), rather than torch.tensor(sourceTensor).\n",
            "  labels = torch.tensor(labels, dtype=torch.float32, device=DEVICE)\n"
          ]
        },
        {
          "output_type": "stream",
          "name": "stdout",
          "text": [
            "time {'P@10': 0.019999999999999997, 'R@10': 0.2, 'NDCG@10': 0.2}\n",
            "Ablation: speed+comp\n"
          ]
        },
        {
          "output_type": "stream",
          "name": "stderr",
          "text": [
            "100%|██████████| 50/50 [00:00<00:00, 748.21it/s]\n",
            "/tmp/ipython-input-1523415671.py:26: UserWarning: To copy construct from a tensor, it is recommended to use sourceTensor.detach().clone() or sourceTensor.detach().clone().requires_grad_(True), rather than torch.tensor(sourceTensor).\n",
            "  u_idx = torch.tensor(u_idx, dtype=torch.long, device=DEVICE)\n",
            "/tmp/ipython-input-1523415671.py:27: UserWarning: To copy construct from a tensor, it is recommended to use sourceTensor.detach().clone() or sourceTensor.detach().clone().requires_grad_(True), rather than torch.tensor(sourceTensor).\n",
            "  c_idx = torch.tensor(c_idx, dtype=torch.long, device=DEVICE)\n",
            "/tmp/ipython-input-1523415671.py:28: UserWarning: To copy construct from a tensor, it is recommended to use sourceTensor.detach().clone() or sourceTensor.detach().clone().requires_grad_(True), rather than torch.tensor(sourceTensor).\n",
            "  labels = torch.tensor(labels, dtype=torch.float32, device=DEVICE)\n"
          ]
        },
        {
          "output_type": "stream",
          "name": "stdout",
          "text": [
            "speed+comp {'P@10': 0.016, 'R@10': 0.16, 'NDCG@10': 0.14602059991327962}\n",
            "Ablation: all\n"
          ]
        },
        {
          "output_type": "stream",
          "name": "stderr",
          "text": [
            "100%|██████████| 50/50 [00:00<00:00, 492.80it/s]"
          ]
        },
        {
          "output_type": "stream",
          "name": "stdout",
          "text": [
            "all {'P@10': 0.013999999999999999, 'R@10': 0.14, 'NDCG@10': 0.14}\n",
            "Ablation done: {'speed': {'P@10': 0.019999999999999997, 'R@10': 0.2, 'NDCG@10': 0.18578129652635775}, 'completion': {'P@10': 0.016, 'R@10': 0.16, 'NDCG@10': 0.16}, 'time': {'P@10': 0.019999999999999997, 'R@10': 0.2, 'NDCG@10': 0.2}, 'speed+comp': {'P@10': 0.016, 'R@10': 0.16, 'NDCG@10': 0.14602059991327962}, 'all': {'P@10': 0.013999999999999999, 'R@10': 0.14, 'NDCG@10': 0.14}}\n"
          ]
        },
        {
          "output_type": "stream",
          "name": "stderr",
          "text": [
            "\n"
          ]
        }
      ]
    },
    {
      "cell_type": "code",
      "source": [
        "# Save trained models\n",
        "torch.save(mf_model.state_dict(), os.path.join(DATA_DIR,\"mf_model.pth\"))\n",
        "torch.save(score_model.state_dict(), os.path.join(DATA_DIR,\"gcn_behavior_model.pth\"))\n",
        "\n",
        "# Save evaluation results\n",
        "import json\n",
        "results_all = {\"MF\": res_mf, \"GCN-dot\": res_gcn, \"GCN+Behavior\": res_gb, \"ablation\": ablation_results}\n",
        "with open(os.path.join(DATA_DIR,\"evaluation_results.json\"), \"w\") as f:\n",
        "    json.dump(results_all, f, indent=2)\n",
        "print(\"Saved models and results to\", DATA_DIR)\n"
      ],
      "metadata": {
        "colab": {
          "base_uri": "https://localhost:8080/"
        },
        "id": "IcES9HGErE2T",
        "outputId": "5ebd229b-af1a-427e-9f05-51b93b44c603"
      },
      "execution_count": 36,
      "outputs": [
        {
          "output_type": "stream",
          "name": "stdout",
          "text": [
            "Saved models and results to /content/data\n"
          ]
        }
      ]
    },
    {
      "cell_type": "code",
      "source": [],
      "metadata": {
        "id": "XUrBX6fRrEw5"
      },
      "execution_count": 36,
      "outputs": []
    },
    {
      "cell_type": "code",
      "source": [],
      "metadata": {
        "id": "-tN8JbkSrEoK"
      },
      "execution_count": 36,
      "outputs": []
    }
  ]
}